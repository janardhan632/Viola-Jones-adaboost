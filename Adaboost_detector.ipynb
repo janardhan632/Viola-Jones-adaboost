{
 "cells": [
  {
   "cell_type": "code",
   "execution_count": 86,
   "metadata": {},
   "outputs": [],
   "source": [
    "import numpy as np\n",
    "import os\n",
    "import pickle\n",
    "import cv2\n",
    "import sys\n",
    "from matplotlib.pyplot import imshow\n",
    "import matplotlib.pyplot as plt\n",
    "import time"
   ]
  },
  {
   "cell_type": "code",
   "execution_count": 87,
   "metadata": {},
   "outputs": [],
   "source": [
    "def img_tointegral_img(image):\n",
    "    s = np.zeros((image.shape[0],image.shape[1]))\n",
    "    integral = np.zeros((image.shape[0],image.shape[1]))\n",
    "    for i in range(len(image)):\n",
    "        for j in range(len(image[0])):\n",
    "            if(i-1 >=0):\n",
    "                s[i][j] = s[i-1][j] + image[i][j]\n",
    "            else:\n",
    "                s[i][j] = image[i][j]\n",
    "            if(j-1 >=0):\n",
    "                integral[i][j] = integral[i][j-1] + s[i][j]\n",
    "            else:\n",
    "                integral[i][j] = s[i][j]\n",
    "            \n",
    "    return integral"
   ]
  },
  {
   "cell_type": "code",
   "execution_count": 88,
   "metadata": {},
   "outputs": [],
   "source": [
    "def get_image_data(is_train):\n",
    "    if(is_train == True):\n",
    "        folder_name = 'trainset'\n",
    "    else:\n",
    "        folder_name = 'testset'\n",
    "    \n",
    "    faces_train = []\n",
    "    for i in os.listdir('dataset/'+folder_name+'/faces/'):\n",
    "        name = 'dataset/'+folder_name+'/faces/' + i\n",
    "        image = cv2.imread(name, cv2.IMREAD_GRAYSCALE)\n",
    "        integral = img_tointegral_img(image)\n",
    "        faces_train.append(integral)\n",
    "    faces_train = np.array(faces_train)\n",
    "    non_faces_train = []\n",
    "    for i in os.listdir('dataset/'+folder_name+'/non-faces/'):\n",
    "        name = 'dataset/'+folder_name+'/non-faces/' + i\n",
    "        image = cv2.imread(name, cv2.IMREAD_GRAYSCALE)\n",
    "\n",
    "        integral = img_tointegral_img(image)\n",
    "        non_faces_train.append(integral)\n",
    "    non_faces_train = np.array(non_faces_train)\n",
    "    \n",
    "    num_pos = len(faces_train)\n",
    "    num_neg = len(non_faces_train)\n",
    "    \n",
    "    labels = []\n",
    "    for i in range(num_pos):\n",
    "        labels.append(1)\n",
    "    for i in range(num_neg):\n",
    "        labels.append(0)\n",
    "    labels = np.array(labels)\n",
    "    \n",
    "    train_integral_data = []\n",
    "    for i in faces_train:\n",
    "        train_integral_data.append(i)\n",
    "    for i in non_faces_train:\n",
    "        train_integral_data.append(i)\n",
    "    train_integral_data = np.array(train_integral_data)\n",
    "    return (train_integral_data, labels)"
   ]
  },
  {
   "cell_type": "code",
   "execution_count": 10,
   "metadata": {},
   "outputs": [],
   "source": [
    "train_input_data, train_labels = get_image_data(True)"
   ]
  },
  {
   "cell_type": "code",
   "execution_count": 11,
   "metadata": {},
   "outputs": [],
   "source": [
    "test_input_data, test_labels = get_image_data(False)"
   ]
  },
  {
   "cell_type": "code",
   "execution_count": 12,
   "metadata": {},
   "outputs": [
    {
     "data": {
      "text/plain": [
       "((2499, 19, 19), (2499,))"
      ]
     },
     "execution_count": 12,
     "metadata": {},
     "output_type": "execute_result"
    }
   ],
   "source": [
    "train_input_data.shape, train_labels.shape"
   ]
  },
  {
   "cell_type": "code",
   "execution_count": 13,
   "metadata": {},
   "outputs": [
    {
     "data": {
      "text/plain": [
       "((2473, 19, 19), (2473,))"
      ]
     },
     "execution_count": 13,
     "metadata": {},
     "output_type": "execute_result"
    }
   ],
   "source": [
    "test_input_data.shape, test_labels.shape"
   ]
  },
  {
   "cell_type": "code",
   "execution_count": 89,
   "metadata": {},
   "outputs": [],
   "source": [
    "def calc_value(x1,x2,x3,x4,integral):\n",
    "    temp_sum = 0\n",
    "    if(x4[0]>=0 and x4[1]>=0):\n",
    "        temp_sum += integral[x4[0],x4[1]]\n",
    "    if(x1[0]>=0 and x1[1]>=0):\n",
    "        temp_sum += integral[x1[0],x1[1]]\n",
    "    if(x2[0]>=0 and x2[1]>=0):\n",
    "        temp_sum -= integral[x2[0],x2[1]]\n",
    "    if(x3[0]>=0 and x3[1]>=0):\n",
    "        temp_sum -= integral[x3[0],x3[1]]\n",
    "    return temp_sum"
   ]
  },
  {
   "cell_type": "code",
   "execution_count": 90,
   "metadata": {},
   "outputs": [],
   "source": [
    "cnt = 0\n",
    "feature_index_feature_map = {}"
   ]
  },
  {
   "cell_type": "code",
   "execution_count": 91,
   "metadata": {},
   "outputs": [],
   "source": [
    "def calc_features_feature_map(cnt,input_data):\n",
    "    image = input_data[0]\n",
    "    features1 = []\n",
    "    for integral in input_data[:1]:\n",
    "        sample = []\n",
    "        for i in range(1,len(image)+1):\n",
    "            for j in range(1,len(image[0])+1):\n",
    "                for x in range(-1,len(image)):\n",
    "                    for y in range(-1,len(image[0])):\n",
    "                        x1 = [x,y]\n",
    "                        x4 = [x+i,y+j]\n",
    "                        x2 = [x,y+j]\n",
    "                        x3 = [x+i,y]\n",
    "                        if(x4[0]>=len(image) or x4[1]>=len(image[0])):\n",
    "                            continue\n",
    "                        f1_temp1 = calc_value(x1,x2,x3,x4,integral)\n",
    "                        x1 = [x,y+j]\n",
    "                        x4 = [x+i,y+2*j]\n",
    "                        x2 = [x,y+2*j]\n",
    "                        x3 = [x+i,y+j]\n",
    "                        if(x4[0]>=len(image) or x4[1]>=len(image[0])):\n",
    "                            continue\n",
    "                        f1_temp2 = calc_value(x1,x2,x3,x4,integral)\n",
    "                        sample.append(-f1_temp1+f1_temp2)\n",
    "                        feature_index_feature_map[cnt] = [1,i,j,x,y]\n",
    "                        cnt += 1\n",
    "        features1.append(sample)\n",
    "    features1 = np.array(features1)\n",
    "    \n",
    "    features2 = []\n",
    "    for integral in input_data[:1]:\n",
    "        sample = []\n",
    "        for i in range(1,len(image)+1):\n",
    "            for j in range(1,len(image[0])+1):\n",
    "                for x in range(-1,len(image)):\n",
    "                    for y in range(-1,len(image[0])):\n",
    "                        x1 = [x,y]\n",
    "                        x4 = [x+i,y+j]\n",
    "                        x2 = [x+i,y]\n",
    "                        x3 = [x,y+j]\n",
    "                        if(x4[0]>=len(image) or x4[1]>=len(image[0])):\n",
    "                            continue\n",
    "                        f2_temp1 = calc_value(x1,x2,x3,x4,integral)\n",
    "                        x1 = [x+i,y]\n",
    "                        x4 = [x+2*i,y+j]\n",
    "                        x2 = [x+2*i,y]\n",
    "                        x3 = [x+i,y+j]\n",
    "                        if(x4[0]>=len(image) or x4[1]>=len(image[0])):\n",
    "                            continue\n",
    "                        f2_temp2 = calc_value(x1,x2,x3,x4,integral)\n",
    "                        sample.append(+f2_temp1-f2_temp2)\n",
    "                        feature_index_feature_map[cnt] = [2,i,j,x,y]\n",
    "                        cnt += 1\n",
    "        features2.append(sample)\n",
    "    features2 = np.array(features2)\n",
    "    \n",
    "    features3 = []\n",
    "    for integral in input_data[:1]:\n",
    "        sample = []\n",
    "        for i in range(1,len(image)+1):\n",
    "            for j in range(1,len(image[0])+1):\n",
    "                for x in range(-1,len(image)):\n",
    "                    for y in range(-1,len(image[0])):\n",
    "                        x1 = [x,y]\n",
    "                        x4 = [x+i,y+j]\n",
    "                        x2 = [x,y+j]\n",
    "                        x3 = [x+i,y]\n",
    "                        if(x4[0]>=len(image) or x4[1]>=len(image[0])):\n",
    "                            continue\n",
    "                        f1_temp1 = calc_value(x1,x2,x3,x4,integral)\n",
    "                        x1 = [x,y+j]\n",
    "                        x4 = [x+i,y+2*j]\n",
    "                        x2 = [x,y+2*j]\n",
    "                        x3 = [x+i,y+j]\n",
    "                        if(x4[0]>=len(image) or x4[1]>=len(image[0])):\n",
    "                            continue\n",
    "                        #print(x1,x2,x3,x4)\n",
    "                        f1_temp2 = calc_value(x1,x2,x3,x4,integral)\n",
    "                        x1 = [x,y+2*j]\n",
    "                        x4 = [x+i,y+3*j]\n",
    "                        x2 = [x,y+3*j]\n",
    "                        x3 = [x+i,y+2*j]\n",
    "                        if(x4[0]>=len(image) or x4[1]>=len(image[0])):\n",
    "                            continue\n",
    "                        #print(x1,x2,x3,x4)\n",
    "                        f1_temp3 = calc_value(x1,x2,x3,x4,integral)\n",
    "                        sample.append(+f1_temp1-f1_temp2+f1_temp3)\n",
    "                        feature_index_feature_map[cnt] = [3,i,j,x,y]\n",
    "                        cnt += 1\n",
    "        features3.append(sample)\n",
    "    features3 = np.array(features3)\n",
    "    \n",
    "    features4 = []\n",
    "    for integral in input_data[:1]:\n",
    "        sample = []\n",
    "        for i in range(1,len(image)+1):\n",
    "            for j in range(1,len(image[0])+1):\n",
    "                for x in range(-1,len(image)):\n",
    "                    for y in range(-1,len(image[0])):\n",
    "                        x1 = [x,y]\n",
    "                        x4 = [x+i,y+j]\n",
    "                        x2 = [x+i,y]\n",
    "                        x3 = [x,y+j]\n",
    "                        if(x4[0]>=len(image) or x4[1]>=len(image[0])):\n",
    "                            continue\n",
    "                        f2_temp1 = calc_value(x1,x2,x3,x4,integral)\n",
    "                        x1 = [x+i,y]\n",
    "                        x4 = [x+2*i,y+j]\n",
    "                        x2 = [x+2*i,y]\n",
    "                        x3 = [x+i,y+j]\n",
    "                        if(x4[0]>=len(image) or x4[1]>=len(image[0])):\n",
    "                            continue\n",
    "                        f2_temp2 = calc_value(x1,x2,x3,x4,integral)\n",
    "                        x1 = [x+2*i,y]\n",
    "                        x4 = [x+3*i,y+j]\n",
    "                        x2 = [x+3*i,y]\n",
    "                        x3 = [x+2*i,y+j]\n",
    "                        if(x4[0]>=len(image) or x4[1]>=len(image[0])):\n",
    "                            continue\n",
    "                        f2_temp3 = calc_value(x1,x2,x3,x4,integral)\n",
    "                        sample.append(+f2_temp1-f2_temp2+f2_temp3)\n",
    "                        feature_index_feature_map[cnt] = [4,i,j,x,y]\n",
    "                        cnt += 1\n",
    "        features4.append(sample)\n",
    "    features4 = np.array(features4)\n",
    "    \n",
    "    features5 = []\n",
    "    for integral in input_data[:1]:\n",
    "        sample = []\n",
    "        for i in range(1,len(image)+1):\n",
    "            for j in range(1,len(image[0])+1):\n",
    "                for x in range(-1,len(image)):\n",
    "                    for y in range(-1,len(image[0])):\n",
    "                        x1 = [x,y]\n",
    "                        x4 = [x+i,y+j]\n",
    "                        x2 = [x+i,y]\n",
    "                        x3 = [x,y+j]\n",
    "                        if(x4[0]>=len(image) or x4[1]>=len(image[0])):\n",
    "                            continue\n",
    "                        f2_temp1 = calc_value(x1,x2,x3,x4,integral)\n",
    "                        x1 = [x+i,y]\n",
    "                        x4 = [x+2*i,y+j]\n",
    "                        x2 = [x+2*i,y]\n",
    "                        x3 = [x+i,y+j]\n",
    "                        if(x4[0]>=len(image) or x4[1]>=len(image[0])):\n",
    "                            continue\n",
    "                        f2_temp2 = calc_value(x1,x2,x3,x4,integral)\n",
    "                        x1 = [x,y+j]\n",
    "                        x4 = [x+i,y+2*j]\n",
    "                        x2 = [x+i,y+j]\n",
    "                        x3 = [x,y+2*j]\n",
    "                        if(x4[0]>=len(image) or x4[1]>=len(image[0])):\n",
    "                            continue\n",
    "                        f2_temp3 = calc_value(x1,x2,x3,x4,integral)\n",
    "                        x1 = [x+i,y+j]\n",
    "                        x4 = [x+2*i,y+2*j]\n",
    "                        x2 = [x+i,y+2*j]\n",
    "                        x3 = [x+2*i,y+j]\n",
    "                        if(x4[0]>=len(image) or x4[1]>=len(image[0])):\n",
    "                            continue\n",
    "                        f2_temp4 = calc_value(x1,x2,x3,x4,integral)\n",
    "                        sample.append(-f2_temp1+f2_temp2+f2_temp3-f2_temp4)\n",
    "                        feature_index_feature_map[cnt] = [5,i,j,x,y]\n",
    "                        cnt += 1\n",
    "        features5.append(sample)\n",
    "    features5 = np.array(features5)\n",
    "    \n",
    "    total_features = np.concatenate([features1,features2,features3,features4,features5],axis=1)\n",
    "    return total_features"
   ]
  },
  {
   "cell_type": "code",
   "execution_count": 17,
   "metadata": {},
   "outputs": [
    {
     "data": {
      "text/plain": [
       "array([[1.400e+01, 1.000e+00, 2.000e+00, ..., 3.650e+02, 1.052e+03,\n",
       "        4.520e+02]])"
      ]
     },
     "execution_count": 17,
     "metadata": {},
     "output_type": "execute_result"
    }
   ],
   "source": [
    "calc_features_feature_map(0,train_input_data)"
   ]
  },
  {
   "cell_type": "code",
   "execution_count": 18,
   "metadata": {},
   "outputs": [],
   "source": [
    "feature_types, feature_counts = np.unique(np.array(list(feature_index_feature_map.values()))[:,0],return_counts=True)"
   ]
  },
  {
   "cell_type": "code",
   "execution_count": 19,
   "metadata": {},
   "outputs": [],
   "source": [
    "# Printing number of Haar features for Part 2.1"
   ]
  },
  {
   "cell_type": "code",
   "execution_count": 20,
   "metadata": {},
   "outputs": [
    {
     "name": "stdout",
     "output_type": "stream",
     "text": [
      "The total number of Haar Features is: 63960.\n",
      "There are 17100 type 1 (two vertical) features.\n",
      "There are 17100 type 2 (two horizontal) features.\n",
      "There are 10830 type 3 (three horizontal) features.\n",
      "There are 10830 type 4 (three vertical) features.\n",
      "There are 8100 type 5 (four) features.\n"
     ]
    }
   ],
   "source": [
    "print(\"The total number of Haar Features is: %d.\"%(len(feature_index_feature_map)))\n",
    "print(\"There are %d type 1 (two vertical) features.\"%(feature_counts[0]))\n",
    "print(\"There are %d type 2 (two horizontal) features.\"%(feature_counts[1]))\n",
    "print(\"There are %d type 3 (three horizontal) features.\"%(feature_counts[2]))\n",
    "print(\"There are %d type 4 (three vertical) features.\"%(feature_counts[3]))\n",
    "print(\"There are %d type 5 (four) features.\"%(feature_counts[4]))"
   ]
  },
  {
   "cell_type": "code",
   "execution_count": 96,
   "metadata": {},
   "outputs": [],
   "source": [
    "def calc_features(input_data):\n",
    "    image = input_data[0]\n",
    "    features1 = []\n",
    "    for integral in input_data:\n",
    "        sample = []\n",
    "        for i in range(1,len(image)+1):\n",
    "            for j in range(1,len(image[0])+1):\n",
    "                for x in range(-1,len(image)):\n",
    "                    for y in range(-1,len(image[0])):\n",
    "                        x1 = [x,y]\n",
    "                        x4 = [x+i,y+j]\n",
    "                        x2 = [x,y+j]\n",
    "                        x3 = [x+i,y]\n",
    "                        if(x4[0]>=len(image) or x4[1]>=len(image[0])):\n",
    "                            continue\n",
    "                        f1_temp1 = calc_value(x1,x2,x3,x4,integral)\n",
    "                        x1 = [x,y+j]\n",
    "                        x4 = [x+i,y+2*j]\n",
    "                        x2 = [x,y+2*j]\n",
    "                        x3 = [x+i,y+j]\n",
    "                        if(x4[0]>=len(image) or x4[1]>=len(image[0])):\n",
    "                            continue\n",
    "                        f1_temp2 = calc_value(x1,x2,x3,x4,integral)\n",
    "                        sample.append(-f1_temp1+f1_temp2)\n",
    "\n",
    "        features1.append(sample)\n",
    "    features1 = np.array(features1)\n",
    "    \n",
    "    features2 = []\n",
    "    for integral in input_data:\n",
    "        sample = []\n",
    "        for i in range(1,len(image)+1):\n",
    "            for j in range(1,len(image[0])+1):\n",
    "                for x in range(-1,len(image)):\n",
    "                    for y in range(-1,len(image[0])):\n",
    "                        x1 = [x,y]\n",
    "                        x4 = [x+i,y+j]\n",
    "                        x2 = [x+i,y]\n",
    "                        x3 = [x,y+j]\n",
    "                        if(x4[0]>=len(image) or x4[1]>=len(image[0])):\n",
    "                            continue\n",
    "                        f2_temp1 = calc_value(x1,x2,x3,x4,integral)\n",
    "                        x1 = [x+i,y]\n",
    "                        x4 = [x+2*i,y+j]\n",
    "                        x2 = [x+2*i,y]\n",
    "                        x3 = [x+i,y+j]\n",
    "                        if(x4[0]>=len(image) or x4[1]>=len(image[0])):\n",
    "                            continue\n",
    "                        f2_temp2 = calc_value(x1,x2,x3,x4,integral)\n",
    "                        sample.append(+f2_temp1-f2_temp2)\n",
    "        features2.append(sample)\n",
    "    features2 = np.array(features2)\n",
    "    \n",
    "    features3 = []\n",
    "    for integral in input_data:\n",
    "        sample = []\n",
    "        for i in range(1,len(image)+1):\n",
    "            for j in range(1,len(image[0])+1):\n",
    "                for x in range(-1,len(image)):\n",
    "                    for y in range(-1,len(image[0])):\n",
    "                        x1 = [x,y]\n",
    "                        x4 = [x+i,y+j]\n",
    "                        x2 = [x,y+j]\n",
    "                        x3 = [x+i,y]\n",
    "                        if(x4[0]>=len(image) or x4[1]>=len(image[0])):\n",
    "                            continue\n",
    "                        f1_temp1 = calc_value(x1,x2,x3,x4,integral)\n",
    "                        x1 = [x,y+j]\n",
    "                        x4 = [x+i,y+2*j]\n",
    "                        x2 = [x,y+2*j]\n",
    "                        x3 = [x+i,y+j]\n",
    "                        if(x4[0]>=len(image) or x4[1]>=len(image[0])):\n",
    "                            continue\n",
    "                        #print(x1,x2,x3,x4)\n",
    "                        f1_temp2 = calc_value(x1,x2,x3,x4,integral)\n",
    "                        x1 = [x,y+2*j]\n",
    "                        x4 = [x+i,y+3*j]\n",
    "                        x2 = [x,y+3*j]\n",
    "                        x3 = [x+i,y+2*j]\n",
    "                        if(x4[0]>=len(image) or x4[1]>=len(image[0])):\n",
    "                            continue\n",
    "                        #print(x1,x2,x3,x4)\n",
    "                        f1_temp3 = calc_value(x1,x2,x3,x4,integral)\n",
    "                        sample.append(+f1_temp1-f1_temp2+f1_temp3)\n",
    "        features3.append(sample)\n",
    "    features3 = np.array(features3)\n",
    "    \n",
    "    features4 = []\n",
    "    for integral in input_data:\n",
    "        sample = []\n",
    "        for i in range(1,len(image)+1):\n",
    "            for j in range(1,len(image[0])+1):\n",
    "                for x in range(-1,len(image)):\n",
    "                    for y in range(-1,len(image[0])):\n",
    "                        x1 = [x,y]\n",
    "                        x4 = [x+i,y+j]\n",
    "                        x2 = [x+i,y]\n",
    "                        x3 = [x,y+j]\n",
    "                        if(x4[0]>=len(image) or x4[1]>=len(image[0])):\n",
    "                            continue\n",
    "                        f2_temp1 = calc_value(x1,x2,x3,x4,integral)\n",
    "                        x1 = [x+i,y]\n",
    "                        x4 = [x+2*i,y+j]\n",
    "                        x2 = [x+2*i,y]\n",
    "                        x3 = [x+i,y+j]\n",
    "                        if(x4[0]>=len(image) or x4[1]>=len(image[0])):\n",
    "                            continue\n",
    "                        f2_temp2 = calc_value(x1,x2,x3,x4,integral)\n",
    "                        x1 = [x+2*i,y]\n",
    "                        x4 = [x+3*i,y+j]\n",
    "                        x2 = [x+3*i,y]\n",
    "                        x3 = [x+2*i,y+j]\n",
    "                        if(x4[0]>=len(image) or x4[1]>=len(image[0])):\n",
    "                            continue\n",
    "                        f2_temp3 = calc_value(x1,x2,x3,x4,integral)\n",
    "                        sample.append(+f2_temp1-f2_temp2+f2_temp3)\n",
    "        features4.append(sample)\n",
    "    features4 = np.array(features4)\n",
    "    \n",
    "    features5 = []\n",
    "    for integral in input_data:\n",
    "        sample = []\n",
    "        for i in range(1,len(image)+1):\n",
    "            for j in range(1,len(image[0])+1):\n",
    "                for x in range(-1,len(image)):\n",
    "                    for y in range(-1,len(image[0])):\n",
    "                        x1 = [x,y]\n",
    "                        x4 = [x+i,y+j]\n",
    "                        x2 = [x+i,y]\n",
    "                        x3 = [x,y+j]\n",
    "                        if(x4[0]>=len(image) or x4[1]>=len(image[0])):\n",
    "                            continue\n",
    "                        f2_temp1 = calc_value(x1,x2,x3,x4,integral)\n",
    "                        x1 = [x+i,y]\n",
    "                        x4 = [x+2*i,y+j]\n",
    "                        x2 = [x+2*i,y]\n",
    "                        x3 = [x+i,y+j]\n",
    "                        if(x4[0]>=len(image) or x4[1]>=len(image[0])):\n",
    "                            continue\n",
    "                        f2_temp2 = calc_value(x1,x2,x3,x4,integral)\n",
    "                        x1 = [x,y+j]\n",
    "                        x4 = [x+i,y+2*j]\n",
    "                        x2 = [x+i,y+j]\n",
    "                        x3 = [x,y+2*j]\n",
    "                        if(x4[0]>=len(image) or x4[1]>=len(image[0])):\n",
    "                            continue\n",
    "                        f2_temp3 = calc_value(x1,x2,x3,x4,integral)\n",
    "                        x1 = [x+i,y+j]\n",
    "                        x4 = [x+2*i,y+2*j]\n",
    "                        x2 = [x+i,y+2*j]\n",
    "                        x3 = [x+2*i,y+j]\n",
    "                        if(x4[0]>=len(image) or x4[1]>=len(image[0])):\n",
    "                            continue\n",
    "                        f2_temp4 = calc_value(x1,x2,x3,x4,integral)\n",
    "                        sample.append(-f2_temp1+f2_temp2+f2_temp3-f2_temp4)\n",
    "        features5.append(sample)\n",
    "    features5 = np.array(features5)\n",
    "    \n",
    "    total_features = np.concatenate([features1,features2,features3,features4,features5],axis=1)\n",
    "    return total_features"
   ]
  },
  {
   "cell_type": "code",
   "execution_count": 19,
   "metadata": {},
   "outputs": [],
   "source": [
    "train_features = calc_features(train_input_data)"
   ]
  },
  {
   "cell_type": "code",
   "execution_count": 20,
   "metadata": {},
   "outputs": [],
   "source": [
    "np.save('train_features.npy',train_features)\n",
    "np.save('train_labels.npy',train_labels)"
   ]
  },
  {
   "cell_type": "code",
   "execution_count": 21,
   "metadata": {},
   "outputs": [],
   "source": [
    "test_features = calc_features(test_input_data)"
   ]
  },
  {
   "cell_type": "code",
   "execution_count": 22,
   "metadata": {},
   "outputs": [],
   "source": [
    "np.save('test_features.npy',test_features)\n",
    "np.save('test_labels.npy',test_labels)"
   ]
  },
  {
   "cell_type": "code",
   "execution_count": 23,
   "metadata": {},
   "outputs": [],
   "source": [
    "# loading train and test data"
   ]
  },
  {
   "cell_type": "code",
   "execution_count": 92,
   "metadata": {},
   "outputs": [],
   "source": [
    "train_features = np.load('train_features.npy')\n",
    "train_labels = np.load('train_labels.npy')"
   ]
  },
  {
   "cell_type": "code",
   "execution_count": 93,
   "metadata": {},
   "outputs": [],
   "source": [
    "test_features = np.load('test_features.npy')\n",
    "test_labels = np.load('test_labels.npy')"
   ]
  },
  {
   "cell_type": "code",
   "execution_count": 94,
   "metadata": {},
   "outputs": [
    {
     "data": {
      "text/plain": [
       "((2499, 63960), (2473, 63960))"
      ]
     },
     "execution_count": 94,
     "metadata": {},
     "output_type": "execute_result"
    }
   ],
   "source": [
    "train_features.shape, test_features.shape"
   ]
  },
  {
   "cell_type": "code",
   "execution_count": 95,
   "metadata": {},
   "outputs": [],
   "source": [
    "# Initializing weights"
   ]
  },
  {
   "cell_type": "code",
   "execution_count": 97,
   "metadata": {},
   "outputs": [],
   "source": [
    "num_pos = np.sum(train_labels)\n",
    "num_neg = len(train_labels) - num_pos"
   ]
  },
  {
   "cell_type": "code",
   "execution_count": 98,
   "metadata": {},
   "outputs": [],
   "source": [
    "weights = []\n",
    "for i in range(num_pos):\n",
    "    weights.append(1/float(2*num_pos))\n",
    "for i in range(num_neg):\n",
    "    weights.append(1/float(2*num_neg))\n",
    "weights = np.array(weights)\n",
    "weights = weights/np.sum(weights)"
   ]
  },
  {
   "cell_type": "code",
   "execution_count": 99,
   "metadata": {},
   "outputs": [],
   "source": [
    "def weak_classifier(image_index,feature_index,threshold,polarity,is_train):\n",
    "    if(is_train==True):\n",
    "        if(polarity*train_features[image_index,feature_index] <  polarity*threshold):\n",
    "            return 1\n",
    "        else:\n",
    "            return 0\n",
    "    else:\n",
    "        if(polarity*test_features[image_index,feature_index] <  polarity*threshold):\n",
    "            return 1\n",
    "        else:\n",
    "            return 0"
   ]
  },
  {
   "cell_type": "code",
   "execution_count": 100,
   "metadata": {},
   "outputs": [],
   "source": [
    "def one_round(weights):\n",
    "    t_pos = 0\n",
    "    t_neg = 0\n",
    "    for i in range(len(train_labels)):\n",
    "        if(train_labels[i]==1):\n",
    "            t_pos += weights[i]\n",
    "        else:\n",
    "            t_neg += weights[i]\n",
    "        \n",
    "    all_clfs = []\n",
    "    for feature_index in range(train_features.shape[1]):\n",
    "        \n",
    "        feature_values = train_features[:,feature_index]\n",
    "        sorted_feature_value_indices = np.argsort(feature_values)\n",
    "        s_pos = 0\n",
    "        s_neg = 0\n",
    "        weights_pos_till_now,weights_neg_till_now = 0, 0\n",
    "        values = [sys.maxsize,0,0] # error,feature_threshold,feature_polarity\n",
    "        for i in sorted_feature_value_indices:\n",
    "            cur_error = min(weights_neg_till_now+t_pos-weights_pos_till_now,weights_pos_till_now+t_neg-weights_neg_till_now)\n",
    "            if(cur_error<values[0]):\n",
    "                values[0] = cur_error\n",
    "                values[1] = feature_values[i]\n",
    "                if(s_pos > s_neg):\n",
    "                    values[2] = 1\n",
    "                else:\n",
    "                    values[2] = -1\n",
    "            if(train_labels[i]==1):\n",
    "                s_pos += 1\n",
    "                weights_pos_till_now += weights[i]\n",
    "            else:\n",
    "                s_neg += 1\n",
    "                weights_neg_till_now += weights[i]\n",
    "        all_clfs.append([feature_index,values[1],values[2]])\n",
    "    \n",
    "    best_clf_index,best_err = 0,sys.maxsize\n",
    "    for clf_index,clf in enumerate(all_clfs):\n",
    "        \n",
    "        cur_err = 0\n",
    "        for i in range(train_features.shape[0]):\n",
    "            if(weak_classifier(i,clf[0],clf[1],clf[2],True)!=train_labels[i]):\n",
    "                cur_err += weights[i]\n",
    "        cur_err = cur_err/float(train_features.shape[0])\n",
    "        if(cur_err < best_err):\n",
    "            best_clf_index,best_err = clf_index, cur_err      \n",
    "    return all_clfs[best_clf_index], best_err"
   ]
  },
  {
   "cell_type": "code",
   "execution_count": 169,
   "metadata": {},
   "outputs": [
    {
     "name": "stdout",
     "output_type": "stream",
     "text": [
      "0\n",
      "[10142, 106.0, -1] 9.962126797991662\n",
      "1\n",
      "[10554, 386.0, -1] 10.007012923023083\n",
      "2\n",
      "[58239, 38.0, -1] 15.363318089056966\n",
      "3\n",
      "[58598, 23.0, -1] 9.959563133069697\n",
      "4\n",
      "[19688, -85.0, 1] 10.50054765042498\n",
      "5\n",
      "[22212, 68.0, -1] 15.707706220080317\n",
      "6\n",
      "[20342, 398.0, -1] 13.946431643690248\n",
      "7\n",
      "[10727, -23.0, -1] 16.486412541341522\n",
      "8\n",
      "[56430, 46.0, -1] 14.605886294781463\n",
      "9\n",
      "[1288, -63.0, -1] 15.980638481093377\n"
     ]
    }
   ],
   "source": [
    "start_time = time.time()\n",
    "\n",
    "rounds = []\n",
    "for each_round in range(10):\n",
    "    print(each_round)\n",
    "    clf, error = one_round(weights)\n",
    "    beta = error / float(1-error)\n",
    "    for i in range(train_features.shape[0]):\n",
    "        if(weak_classifier(i,clf[0],clf[1],clf[2],True)==train_labels[i]):\n",
    "            weights[i] = weights[i] * (beta)\n",
    "    weights = weights/np.sum(weights)\n",
    "    alpha = np.log(1/float(beta))\n",
    "    print(clf,alpha)\n",
    "    rounds.append([clf,alpha])\n",
    "    \n",
    "end_time = time.time()"
   ]
  },
  {
   "cell_type": "code",
   "execution_count": 170,
   "metadata": {},
   "outputs": [],
   "source": [
    "rounds_arr = np.array(rounds)"
   ]
  },
  {
   "cell_type": "code",
   "execution_count": 171,
   "metadata": {},
   "outputs": [
    {
     "name": "stdout",
     "output_type": "stream",
     "text": [
      "Total time taken in seconds: 4387.519892215729\n"
     ]
    }
   ],
   "source": [
    "print(\"Total time taken in seconds:\",end_time-start_time)"
   ]
  },
  {
   "cell_type": "code",
   "execution_count": 35,
   "metadata": {},
   "outputs": [],
   "source": [
    "with open('rounds_arr.pickle', 'wb') as handle:\n",
    "    pickle.dump(rounds_arr, handle, protocol=pickle.HIGHEST_PROTOCOL)"
   ]
  },
  {
   "cell_type": "code",
   "execution_count": 101,
   "metadata": {},
   "outputs": [],
   "source": [
    "with open('rounds_arr.pickle', 'rb') as handle:\n",
    "    rounds_arr = pickle.load(handle)"
   ]
  },
  {
   "cell_type": "code",
   "execution_count": 102,
   "metadata": {
    "scrolled": true
   },
   "outputs": [
    {
     "data": {
      "text/plain": [
       "array([[list([10142, 106.0, -1]), 9.962126797991662],\n",
       "       [list([10554, 386.0, -1]), 10.007012923023083],\n",
       "       [list([58239, 38.0, -1]), 15.363318089056966],\n",
       "       [list([58598, 23.0, -1]), 9.959563133069697],\n",
       "       [list([19688, -85.0, 1]), 10.50054765042498],\n",
       "       [list([22212, 68.0, -1]), 15.707706220080317],\n",
       "       [list([20342, 398.0, -1]), 13.946431643690248],\n",
       "       [list([10727, -23.0, -1]), 16.486412541341522],\n",
       "       [list([56430, 46.0, -1]), 14.605886294781463],\n",
       "       [list([1288, -63.0, -1]), 15.980638481093377]], dtype=object)"
      ]
     },
     "execution_count": 102,
     "metadata": {},
     "output_type": "execute_result"
    }
   ],
   "source": [
    "rounds_arr"
   ]
  },
  {
   "cell_type": "code",
   "execution_count": 103,
   "metadata": {},
   "outputs": [],
   "source": [
    "def strong_clf(image_index,num_rounds,is_train):\n",
    "    total = 0\n",
    "    for round_index in range(num_rounds):\n",
    "        if(weak_classifier(image_index,rounds_arr[round_index][0][0],rounds_arr[round_index][0][1],rounds_arr[round_index][0][2],is_train)==1):\n",
    "            total += rounds_arr[round_index][1]\n",
    "    if(total>= 0.5*sum(rounds_arr[:num_rounds,1])):\n",
    "        return 1\n",
    "    else:\n",
    "        return 0"
   ]
  },
  {
   "cell_type": "code",
   "execution_count": 107,
   "metadata": {},
   "outputs": [
    {
     "name": "stdout",
     "output_type": "stream",
     "text": [
      "Training acc for round 1 is: 2145.000000,0.858343\n",
      "Training acc for round 2 is: 1950.000000,0.780312\n",
      "Training acc for round 3 is: 2166.000000,0.866747\n",
      "Training acc for round 4 is: 2068.000000,0.827531\n",
      "Training acc for round 5 is: 2242.000000,0.897159\n",
      "Training acc for round 6 is: 2173.000000,0.869548\n",
      "Training acc for round 7 is: 2317.000000,0.927171\n",
      "Training acc for round 8 is: 2264.000000,0.905962\n",
      "Training acc for round 9 is: 2346.000000,0.938776\n",
      "Training acc for round 10 is: 2261.000000,0.904762\n"
     ]
    }
   ],
   "source": [
    "training_acc = []\n",
    "for desired_value in range(1,11):\n",
    "    cur_acc = 0\n",
    "    num_rounds = desired_value\n",
    "    for i in range(train_features.shape[0]):\n",
    "        if(strong_clf(i,num_rounds,True)==train_labels[i]):\n",
    "            cur_acc += 1\n",
    "    cur_acc = cur_acc\n",
    "    print('Training acc for round %d is: %f,%f'%(desired_value,cur_acc,cur_acc/float(len(train_labels))))\n",
    "    training_acc.append(cur_acc/float(len(train_labels)))"
   ]
  },
  {
   "cell_type": "code",
   "execution_count": 112,
   "metadata": {},
   "outputs": [
    {
     "data": {
      "image/png": "[encoded data removed]",
      "text/plain": [
       "<Figure size 432x288 with 1 Axes>"
      ]
     },
     "metadata": {
      "needs_background": "light"
     },
     "output_type": "display_data"
    }
   ],
   "source": [
    "plt.plot(range(1,11),training_acc,'-o')\n",
    "plt.xlabel('Rounds')\n",
    "plt.ylabel('Training accuracy')\n",
    "plt.title('Training accuracy vs No.of rounds')\n",
    "plt.show()"
   ]
  },
  {
   "cell_type": "code",
   "execution_count": 116,
   "metadata": {
    "scrolled": true
   },
   "outputs": [
    {
     "name": "stdout",
     "output_type": "stream",
     "text": [
      "Training Fasle Postive Rate:: 0.12605042016806722 315\n",
      "Training Fasle Postive Rate:: 0.09643857543017206 241\n",
      "Training Fasle Postive Rate:: 0.09003601440576231 225\n",
      "Training Fasle Postive Rate:: 0.12765106042416965 319\n",
      "Training Fasle Postive Rate:: 0.045218087234893956 113\n",
      "Training Fasle Postive Rate:: 0.09083633453381353 227\n",
      "Training Fasle Postive Rate:: 0.026810724289715888 67\n",
      "Training Fasle Postive Rate:: 0.08443377350940376 211\n",
      "Training Fasle Postive Rate:: 0.022408963585434174 56\n",
      "Training Fasle Postive Rate:: 0.07683073229291716 192\n"
     ]
    }
   ],
   "source": [
    "training_fp = []\n",
    "for desired_value in range(1,11):\n",
    "    fp = 0\n",
    "    tn = 0\n",
    "    num_rounds = desired_value\n",
    "    for i in range(train_features.shape[0]):\n",
    "        if(train_labels[i]==0):\n",
    "            tn += 1\n",
    "            if(strong_clf(i,num_rounds,True)==1):\n",
    "                fp += 1\n",
    "    fpr = fp/float(train_features.shape[0])\n",
    "    print('Training Fasle Postive Rate::',fpr,fp)\n",
    "    training_fp.append(fpr)"
   ]
  },
  {
   "cell_type": "code",
   "execution_count": 118,
   "metadata": {},
   "outputs": [
    {
     "data": {
      "image/png": "[encoded data removed]",
      "text/plain": [
       "<Figure size 432x288 with 1 Axes>"
      ]
     },
     "metadata": {
      "needs_background": "light"
     },
     "output_type": "display_data"
    }
   ],
   "source": [
    "plt.plot(range(1,11),training_fp,'-o')\n",
    "plt.xlabel('Rounds')\n",
    "plt.ylabel('Training False positive rate')\n",
    "plt.title('Training False positive rate vs No.of rounds')\n",
    "plt.show()"
   ]
  },
  {
   "cell_type": "code",
   "execution_count": 117,
   "metadata": {},
   "outputs": [
    {
     "name": "stdout",
     "output_type": "stream",
     "text": [
      "Training Fasle Negative Rate:: 0.015606242496998799 39\n",
      "Training Fasle Negative Rate:: 0.12324929971988796 308\n",
      "Training Fasle Negative Rate:: 0.04321728691476591 108\n",
      "Training Fasle Negative Rate:: 0.04481792717086835 112\n",
      "Training Fasle Negative Rate:: 0.057623049219687875 144\n",
      "Training Fasle Negative Rate:: 0.03961584633853541 99\n",
      "Training Fasle Negative Rate:: 0.04601840736294518 115\n",
      "Training Fasle Negative Rate:: 0.009603841536614645 24\n",
      "Training Fasle Negative Rate:: 0.038815526210484196 97\n",
      "Training Fasle Negative Rate:: 0.01840736294517807 46\n"
     ]
    }
   ],
   "source": [
    "training_fn = []\n",
    "for desired_value in range(1,11):\n",
    "    fn = 0\n",
    "    tp = 0\n",
    "    num_rounds = desired_value\n",
    "    for i in range(train_features.shape[0]):\n",
    "        if(train_labels[i]==1):\n",
    "            tp += 1\n",
    "            if(strong_clf(i,num_rounds,True)==0):\n",
    "                fn += 1\n",
    "    fnr = fn/float(train_features.shape[0])\n",
    "    print('Training Fasle Negative Rate::',fnr,fn)\n",
    "    training_fn.append(fnr)"
   ]
  },
  {
   "cell_type": "code",
   "execution_count": 119,
   "metadata": {},
   "outputs": [
    {
     "data": {
      "image/png": "[encoded data removed]",
      "text/plain": [
       "<Figure size 432x288 with 1 Axes>"
      ]
     },
     "metadata": {
      "needs_background": "light"
     },
     "output_type": "display_data"
    }
   ],
   "source": [
    "plt.plot(range(1,11),training_fn,'-o')\n",
    "plt.xlabel('Rounds')\n",
    "plt.ylabel('Training False negative rate')\n",
    "plt.title('Training False negative rate vs No.of rounds')\n",
    "plt.show()"
   ]
  },
  {
   "cell_type": "code",
   "execution_count": 122,
   "metadata": {},
   "outputs": [
    {
     "name": "stdout",
     "output_type": "stream",
     "text": [
      "Testing acc: 1943 0.7856854023453296\n",
      "Testing acc: 1840 0.7440355843105539\n",
      "Testing acc: 1933 0.7816417306914678\n",
      "Testing acc: 1918 0.7755762232106753\n",
      "Testing acc: 1964 0.7941771128184392\n",
      "Testing acc: 1989 0.8042862919530934\n",
      "Testing acc: 1996 0.8071168621107966\n",
      "Testing acc: 1970 0.7966033158107562\n",
      "Testing acc: 1999 0.8083299636069551\n",
      "Testing acc: 1961 0.7929640113222807\n"
     ]
    }
   ],
   "source": [
    "testing_acc = []\n",
    "for desired_value in range(1,11):\n",
    "    cur_acc = 0\n",
    "    num_rounds = desired_value\n",
    "    for i in range(test_features.shape[0]):\n",
    "        if(strong_clf(i,num_rounds,False)==test_labels[i]):\n",
    "            cur_acc += 1\n",
    "    cur_acc = cur_acc\n",
    "    print('Testing acc:',cur_acc,cur_acc/float(len(test_labels)))\n",
    "    testing_acc.append(cur_acc/float(len(test_labels)))"
   ]
  },
  {
   "cell_type": "code",
   "execution_count": 126,
   "metadata": {},
   "outputs": [
    {
     "data": {
      "image/png": "[encoded data removed]",
      "text/plain": [
       "<Figure size 432x288 with 1 Axes>"
      ]
     },
     "metadata": {
      "needs_background": "light"
     },
     "output_type": "display_data"
    }
   ],
   "source": [
    "plt.plot(range(1,11),testing_acc,'-o')\n",
    "plt.xlabel('Rounds')\n",
    "plt.ylabel('Testing accuracy')\n",
    "plt.title('Testing accuracy vs No.of rounds')\n",
    "plt.show()"
   ]
  },
  {
   "cell_type": "code",
   "execution_count": 123,
   "metadata": {},
   "outputs": [
    {
     "name": "stdout",
     "output_type": "stream",
     "text": [
      "Testing Fasle Postive Rate:: 0.07278608976951072 180\n",
      "Testing Fasle Postive Rate:: 0.08249090173877881 204\n",
      "Testing Fasle Postive Rate:: 0.04852405984634048 120\n",
      "Testing Fasle Postive Rate:: 0.06429437929640114 159\n",
      "Testing Fasle Postive Rate:: 0.029114435907804288 72\n",
      "Testing Fasle Postive Rate:: 0.03962798220784472 98\n",
      "Testing Fasle Postive Rate:: 0.014961585119288313 37\n",
      "Testing Fasle Postive Rate:: 0.05054589567327133 125\n",
      "Testing Fasle Postive Rate:: 0.010917913465426607 27\n",
      "Testing Fasle Postive Rate:: 0.04892842701172665 121\n"
     ]
    }
   ],
   "source": [
    "testing_fp = []\n",
    "for desired_value in range(1,11):\n",
    "    fp = 0\n",
    "    tn = 0\n",
    "    num_rounds = desired_value\n",
    "    for i in range(test_features.shape[0]):\n",
    "        if(test_labels[i]==0):\n",
    "            tn += 1\n",
    "            if(strong_clf(i,num_rounds,False)==1):\n",
    "                fp += 1\n",
    "    fpr = fp/float(len(test_labels))\n",
    "    print('Testing Fasle Postive Rate::',fpr,fp)\n",
    "    testing_fp.append(fpr)"
   ]
  },
  {
   "cell_type": "code",
   "execution_count": 127,
   "metadata": {},
   "outputs": [
    {
     "data": {
      "image/png": "[encoded data removed]",
      "text/plain": [
       "<Figure size 432x288 with 1 Axes>"
      ]
     },
     "metadata": {
      "needs_background": "light"
     },
     "output_type": "display_data"
    }
   ],
   "source": [
    "plt.plot(range(1,11),testing_fp,'-o')\n",
    "plt.xlabel('Rounds')\n",
    "plt.ylabel('Testing False positive rate')\n",
    "plt.title('Testing False positive rate vs No.of rounds')\n",
    "plt.show()"
   ]
  },
  {
   "cell_type": "code",
   "execution_count": 125,
   "metadata": {},
   "outputs": [
    {
     "name": "stdout",
     "output_type": "stream",
     "text": [
      "Testing Fasle Negative Rate:: 0.14152850788515972 350\n",
      "Testing Fasle Negative Rate:: 0.1734735139506672 429\n",
      "Testing Fasle Negative Rate:: 0.16983420946219166 420\n",
      "Testing Fasle Negative Rate:: 0.16012939749292357 396\n",
      "Testing Fasle Negative Rate:: 0.17670845127375656 437\n",
      "Testing Fasle Negative Rate:: 0.15608572583906186 386\n",
      "Testing Fasle Negative Rate:: 0.1779215527699151 440\n",
      "Testing Fasle Negative Rate:: 0.1528507885159725 378\n",
      "Testing Fasle Negative Rate:: 0.18075212292761828 447\n",
      "Testing Fasle Negative Rate:: 0.1581075616659927 391\n"
     ]
    }
   ],
   "source": [
    "testing_fn = []\n",
    "for desired_value in range(1,11):\n",
    "    fn = 0\n",
    "    tp = 0\n",
    "    num_rounds = desired_value\n",
    "    for i in range(test_features.shape[0]):\n",
    "        if(test_labels[i]==1):\n",
    "            tp += 1\n",
    "            if(strong_clf(i,num_rounds,False)==0):\n",
    "                fn += 1\n",
    "    fnr = fn/float(len(test_labels))\n",
    "    print('Testing Fasle Negative Rate::',fnr,fn)\n",
    "    testing_fn.append(fnr)"
   ]
  },
  {
   "cell_type": "code",
   "execution_count": 128,
   "metadata": {},
   "outputs": [
    {
     "data": {
      "image/png": "[encoded data removed]",
      "text/plain": [
       "<Figure size 432x288 with 1 Axes>"
      ]
     },
     "metadata": {
      "needs_background": "light"
     },
     "output_type": "display_data"
    }
   ],
   "source": [
    "plt.plot(range(1,11),testing_fn,'-o')\n",
    "plt.xlabel('Rounds')\n",
    "plt.ylabel('Testing False negative rate')\n",
    "plt.title('Testing False negative rate vs No.of rounds')\n",
    "plt.show()"
   ]
  },
  {
   "cell_type": "code",
   "execution_count": 234,
   "metadata": {},
   "outputs": [
    {
     "name": "stdout",
     "output_type": "stream",
     "text": [
      "weak classifier with round acc: 0.858343337334934\n",
      "weak classifier with round acc: 0.78031212484994\n",
      "weak classifier with round acc: 0.6846738695478192\n",
      "weak classifier with round acc: 0.6650660264105642\n",
      "weak classifier with round acc: 0.8147258903561424\n",
      "weak classifier with round acc: 0.6802721088435374\n",
      "weak classifier with round acc: 0.8467386954781913\n",
      "weak classifier with round acc: 0.5898359343737495\n",
      "weak classifier with round acc: 0.7827130852340937\n",
      "weak classifier with round acc: 0.44337735094037617\n"
     ]
    }
   ],
   "source": [
    "weak_classifier_acc = []\n",
    "for clf_round in range(10):\n",
    "    cur_acc = 0\n",
    "    #num_rounds = desired_value\n",
    "    for i in range(train_features.shape[0]):\n",
    "        if(weak_classifier(i,rounds_arr[clf_round][0][0],rounds_arr[clf_round][0][1],rounds_arr[clf_round][0][2],True)==train_labels[i]):\n",
    "            cur_acc += 1\n",
    "    cur_acc = cur_acc/float(train_features.shape[0])\n",
    "    print('weak classifier with round acc:',cur_acc)\n",
    "    weak_classifier_acc.append(cur_acc)"
   ]
  },
  {
   "cell_type": "code",
   "execution_count": 47,
   "metadata": {},
   "outputs": [],
   "source": [
    "# plotting features"
   ]
  },
  {
   "cell_type": "code",
   "execution_count": 42,
   "metadata": {},
   "outputs": [],
   "source": [
    "def plot_feature(feature_index,image):\n",
    "    feature_type,i,j,x,y = feature_index_feature_map[feature_index]\n",
    "    temp_image = image.copy()\n",
    "    if(feature_type == 1):\n",
    "        temp_image[x+1:x+i+1,y+1:y+j+1] = 0\n",
    "        temp_image[x+1:x+i+1,y+j+1:y+2*j+1] = 255\n",
    "    if(feature_type == 2):\n",
    "        temp_image[x+1:x+i+1,y+1:y+j+1] = 255\n",
    "        temp_image[x+i+1:x+2*i+1,y+1:y+j+1] = 0\n",
    "    if(feature_type == 3):\n",
    "        temp_image[x+1:x+i+1,y+1:y+j+1] = 255\n",
    "        temp_image[x+1:x+i+1,y+j+1:y+2*j+1] = 0\n",
    "        temp_image[x+1:x+i+1,y+2*j+1:y+3*j+1] = 255\n",
    "    if(feature_type == 4):\n",
    "        temp_image[x+1:x+i+1,y+1:y+j+1] = 255\n",
    "        temp_image[x+i+1:x+2*i+1,y+1:y+j+1] = 0\n",
    "        temp_image[x+2*i+1:x+3*i+1,y+1:y+j+1] = 255\n",
    "    if(feature_type == 5):\n",
    "        temp_image[x+1:x+i+1,y+1:y+j+1] = 0\n",
    "        temp_image[x+1:x+i+1,y+j+1:y+2*j+1] = 255\n",
    "        temp_image[x+i+1:x+2*i+1,y+1:y+j+1] = 255\n",
    "        temp_image[x+i+1:x+2*i+1,y+j+1:y+2*j+1] = 0\n",
    "    return temp_image"
   ]
  },
  {
   "cell_type": "code",
   "execution_count": 43,
   "metadata": {},
   "outputs": [],
   "source": [
    "plot_image = cv2.imread('dataset/testset/faces/cmu_0049.png', cv2.IMREAD_GRAYSCALE)"
   ]
  },
  {
   "cell_type": "code",
   "execution_count": 44,
   "metadata": {},
   "outputs": [
    {
     "data": {
      "text/plain": [
       "(19, 19)"
      ]
     },
     "execution_count": 44,
     "metadata": {},
     "output_type": "execute_result"
    }
   ],
   "source": [
    "plot_image.shape"
   ]
  },
  {
   "cell_type": "code",
   "execution_count": 45,
   "metadata": {},
   "outputs": [
    {
     "data": {
      "text/plain": [
       "array([[list([10142, 106.0, -1]), 9.962126797991662],\n",
       "       [list([10554, 386.0, -1]), 10.007012923023083],\n",
       "       [list([58239, 38.0, -1]), 15.363318089056966],\n",
       "       [list([58598, 23.0, -1]), 9.959563133069697],\n",
       "       [list([19688, -85.0, 1]), 10.50054765042498],\n",
       "       [list([22212, 68.0, -1]), 15.707706220080317],\n",
       "       [list([20342, 398.0, -1]), 13.946431643690248],\n",
       "       [list([10727, -23.0, -1]), 16.486412541341522],\n",
       "       [list([56430, 46.0, -1]), 14.605886294781463],\n",
       "       [list([1288, -63.0, -1]), 15.980638481093377]], dtype=object)"
      ]
     },
     "execution_count": 45,
     "metadata": {},
     "output_type": "execute_result"
    }
   ],
   "source": [
    "rounds_arr"
   ]
  },
  {
   "cell_type": "code",
   "execution_count": 46,
   "metadata": {},
   "outputs": [],
   "source": [
    "# Round 1"
   ]
  },
  {
   "cell_type": "code",
   "execution_count": 47,
   "metadata": {},
   "outputs": [
    {
     "name": "stdout",
     "output_type": "stream",
     "text": [
      "round 1 feature: [1, 8, 1, 2, 7]\n"
     ]
    }
   ],
   "source": [
    "print(\"round 1 feature:\",feature_index_feature_map[rounds_arr[0][0][0]])"
   ]
  },
  {
   "cell_type": "code",
   "execution_count": 50,
   "metadata": {},
   "outputs": [
    {
     "name": "stdout",
     "output_type": "stream",
     "text": [
      "round 3 feature: [5, 2, 3, 14, 4]\n"
     ]
    }
   ],
   "source": [
    "print(\"round 3 feature:\",feature_index_feature_map[rounds_arr[2][0][0]])"
   ]
  },
  {
   "cell_type": "code",
   "execution_count": 54,
   "metadata": {},
   "outputs": [
    {
     "name": "stdout",
     "output_type": "stream",
     "text": [
      "round 5 feature: [2, 1, 10, 14, 7]\n"
     ]
    }
   ],
   "source": [
    "print(\"round 5 feature:\",feature_index_feature_map[rounds_arr[4][0][0]])"
   ]
  },
  {
   "cell_type": "code",
   "execution_count": 55,
   "metadata": {},
   "outputs": [
    {
     "name": "stdout",
     "output_type": "stream",
     "text": [
      "round 10 feature: [1, 1, 5, 13, 7]\n"
     ]
    }
   ],
   "source": [
    "print(\"round 10 feature:\",feature_index_feature_map[rounds_arr[9][0][0]])"
   ]
  },
  {
   "cell_type": "code",
   "execution_count": 49,
   "metadata": {},
   "outputs": [
    {
     "data": {
      "text/plain": [
       "Text(0.5, 1.0, 'Top 1 feature for first round Adaboost')"
      ]
     },
     "execution_count": 49,
     "metadata": {},
     "output_type": "execute_result"
    },
    {
     "data": {
      "image/png": "[encoded data removed]",
      "text/plain": [
       "<Figure size 432x288 with 1 Axes>"
      ]
     },
     "metadata": {
      "needs_background": "light"
     },
     "output_type": "display_data"
    }
   ],
   "source": [
    "temp_plot_image = plot_feature(rounds_arr[0][0][0],plot_image)\n",
    "imshow(temp_plot_image)\n",
    "plt.title(\"Top 1 feature for first round Adaboost\")"
   ]
  },
  {
   "cell_type": "code",
   "execution_count": 52,
   "metadata": {},
   "outputs": [
    {
     "data": {
      "text/plain": [
       "Text(0.5, 1.0, 'Top 1 feature for 3rd round Adaboost')"
      ]
     },
     "execution_count": 52,
     "metadata": {},
     "output_type": "execute_result"
    },
    {
     "data": {
      "image/png": "[encoded data removed]",
      "text/plain": [
       "<Figure size 432x288 with 1 Axes>"
      ]
     },
     "metadata": {
      "needs_background": "light"
     },
     "output_type": "display_data"
    }
   ],
   "source": [
    "temp_plot_image = plot_feature(rounds_arr[2][0][0],plot_image)\n",
    "imshow(temp_plot_image)\n",
    "plt.title(\"Top 1 feature for 3rd round Adaboost\")"
   ]
  },
  {
   "cell_type": "code",
   "execution_count": 56,
   "metadata": {},
   "outputs": [
    {
     "data": {
      "text/plain": [
       "Text(0.5, 1.0, 'Top 1 feature for 5th round Adaboost')"
      ]
     },
     "execution_count": 56,
     "metadata": {},
     "output_type": "execute_result"
    },
    {
     "data": {
      "image/png": "[encoded data removed]",
      "text/plain": [
       "<Figure size 432x288 with 1 Axes>"
      ]
     },
     "metadata": {
      "needs_background": "light"
     },
     "output_type": "display_data"
    }
   ],
   "source": [
    "temp_plot_image = plot_feature(rounds_arr[4][0][0],plot_image)\n",
    "imshow(temp_plot_image)\n",
    "plt.title(\"Top 1 feature for 5th round Adaboost\")"
   ]
  },
  {
   "cell_type": "code",
   "execution_count": 57,
   "metadata": {},
   "outputs": [
    {
     "data": {
      "text/plain": [
       "Text(0.5, 1.0, 'Top 1 feature for 10th round Adaboost')"
      ]
     },
     "execution_count": 57,
     "metadata": {},
     "output_type": "execute_result"
    },
    {
     "data": {
      "image/png": "[encoded data removed]",
      "text/plain": [
       "<Figure size 432x288 with 1 Axes>"
      ]
     },
     "metadata": {
      "needs_background": "light"
     },
     "output_type": "display_data"
    }
   ],
   "source": [
    "temp_plot_image = plot_feature(rounds_arr[9][0][0],plot_image)\n",
    "imshow(temp_plot_image)\n",
    "plt.title(\"Top 1 feature for 10th round Adaboost\")"
   ]
  }
 ],
 "metadata": {
  "kernelspec": {
   "display_name": "Python 3",
   "language": "python",
   "name": "python3"
  },
  "language_info": {
   "codemirror_mode": {
    "name": "ipython",
    "version": 3
   },
   "file_extension": ".py",
   "mimetype": "text/x-python",
   "name": "python",
   "nbconvert_exporter": "python",
   "pygments_lexer": "ipython3",
   "version": "3.7.4"
  }
 },
 "nbformat": 4,
 "nbformat_minor": 2
}

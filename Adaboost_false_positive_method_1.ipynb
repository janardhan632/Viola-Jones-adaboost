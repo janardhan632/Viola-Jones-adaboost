{
 "cells": [
  {
   "cell_type": "code",
   "execution_count": 1,
   "metadata": {},
   "outputs": [],
   "source": [
    "import numpy as np\n",
    "import os\n",
    "import pickle\n",
    "import cv2\n",
    "import sys"
   ]
  },
  {
   "cell_type": "code",
   "execution_count": 2,
   "metadata": {},
   "outputs": [],
   "source": [
    "def img_tointegral_img(image):\n",
    "    s = np.zeros((image.shape[0],image.shape[1]))\n",
    "    integral = np.zeros((image.shape[0],image.shape[1]))\n",
    "    for i in range(len(image)):\n",
    "        for j in range(len(image[0])):\n",
    "            if(i-1 >=0):\n",
    "                s[i][j] = s[i-1][j] + image[i][j]\n",
    "            else:\n",
    "                s[i][j] = image[i][j]\n",
    "            if(j-1 >=0):\n",
    "                integral[i][j] = integral[i][j-1] + s[i][j]\n",
    "            else:\n",
    "                integral[i][j] = s[i][j]\n",
    "            \n",
    "    return integral"
   ]
  },
  {
   "cell_type": "code",
   "execution_count": 3,
   "metadata": {},
   "outputs": [],
   "source": [
    "def get_image_data(is_train):\n",
    "    if(is_train == True):\n",
    "        folder_name = 'trainset'\n",
    "    else:\n",
    "        folder_name = 'testset'\n",
    "    \n",
    "    faces_train = []\n",
    "    for i in os.listdir('dataset/'+folder_name+'/faces/'):\n",
    "        name = 'dataset/'+folder_name+'/faces/' + i\n",
    "        image = cv2.imread(name, cv2.IMREAD_GRAYSCALE)\n",
    "        integral = img_tointegral_img(image)\n",
    "        faces_train.append(integral)\n",
    "    faces_train = np.array(faces_train)\n",
    "    non_faces_train = []\n",
    "    for i in os.listdir('dataset/'+folder_name+'/non-faces/'):\n",
    "        name = 'dataset/'+folder_name+'/non-faces/' + i\n",
    "        image = cv2.imread(name, cv2.IMREAD_GRAYSCALE)\n",
    "\n",
    "        integral = img_tointegral_img(image)\n",
    "        non_faces_train.append(integral)\n",
    "    non_faces_train = np.array(non_faces_train)\n",
    "    \n",
    "    num_pos = len(faces_train)\n",
    "    num_neg = len(non_faces_train)\n",
    "    \n",
    "    labels = []\n",
    "    for i in range(num_pos):\n",
    "        labels.append(1)\n",
    "    for i in range(num_neg):\n",
    "        labels.append(0)\n",
    "    labels = np.array(labels)\n",
    "    \n",
    "    train_integral_data = []\n",
    "    for i in faces_train:\n",
    "        train_integral_data.append(i)\n",
    "    for i in non_faces_train:\n",
    "        train_integral_data.append(i)\n",
    "    train_integral_data = np.array(train_integral_data)\n",
    "    return (train_integral_data, labels)"
   ]
  },
  {
   "cell_type": "code",
   "execution_count": 8,
   "metadata": {},
   "outputs": [],
   "source": [
    "train_input_data, train_labels = get_image_data(True)"
   ]
  },
  {
   "cell_type": "code",
   "execution_count": 9,
   "metadata": {},
   "outputs": [],
   "source": [
    "test_input_data, test_labels = get_image_data(False)"
   ]
  },
  {
   "cell_type": "code",
   "execution_count": 10,
   "metadata": {},
   "outputs": [
    {
     "data": {
      "text/plain": [
       "((2499, 19, 19), (2499,))"
      ]
     },
     "execution_count": 10,
     "metadata": {},
     "output_type": "execute_result"
    }
   ],
   "source": [
    "train_input_data.shape, train_labels.shape"
   ]
  },
  {
   "cell_type": "code",
   "execution_count": 11,
   "metadata": {},
   "outputs": [
    {
     "data": {
      "text/plain": [
       "((2473, 19, 19), (2473,))"
      ]
     },
     "execution_count": 11,
     "metadata": {},
     "output_type": "execute_result"
    }
   ],
   "source": [
    "test_input_data.shape, test_labels.shape"
   ]
  },
  {
   "cell_type": "code",
   "execution_count": 4,
   "metadata": {},
   "outputs": [],
   "source": [
    "def calc_value(x1,x2,x3,x4,integral):\n",
    "    temp_sum = 0\n",
    "    if(x4[0]>=0 and x4[1]>=0):\n",
    "        temp_sum += integral[x4[0],x4[1]]\n",
    "    if(x1[0]>=0 and x1[1]>=0):\n",
    "        temp_sum += integral[x1[0],x1[1]]\n",
    "    if(x2[0]>=0 and x2[1]>=0):\n",
    "        temp_sum -= integral[x2[0],x2[1]]\n",
    "    if(x3[0]>=0 and x3[1]>=0):\n",
    "        temp_sum -= integral[x3[0],x3[1]]\n",
    "    return temp_sum"
   ]
  },
  {
   "cell_type": "code",
   "execution_count": 5,
   "metadata": {},
   "outputs": [],
   "source": [
    "def calc_features(input_data):\n",
    "    image = input_data[0]\n",
    "    features1 = []\n",
    "    for integral in input_data:\n",
    "        sample = []\n",
    "        for i in range(1,len(image)+1):\n",
    "            for j in range(1,len(image[0])+1):\n",
    "                for x in range(-1,len(image)):\n",
    "                    for y in range(-1,len(image[0])):\n",
    "                        x1 = [x,y]\n",
    "                        x4 = [x+i,y+j]\n",
    "                        x2 = [x,y+j]\n",
    "                        x3 = [x+i,y]\n",
    "                        if(x4[0]>=len(image) or x4[1]>=len(image[0])):\n",
    "                            continue\n",
    "                        f1_temp1 = calc_value(x1,x2,x3,x4,integral)\n",
    "                        x1 = [x,y+j]\n",
    "                        x4 = [x+i,y+2*j]\n",
    "                        x2 = [x,y+2*j]\n",
    "                        x3 = [x+i,y+j]\n",
    "                        if(x4[0]>=len(image) or x4[1]>=len(image[0])):\n",
    "                            continue\n",
    "                        f1_temp2 = calc_value(x1,x2,x3,x4,integral)\n",
    "                        sample.append(-f1_temp1+f1_temp2)\n",
    "\n",
    "        features1.append(sample)\n",
    "    features1 = np.array(features1)\n",
    "    \n",
    "    features2 = []\n",
    "    for integral in input_data:\n",
    "        sample = []\n",
    "        for i in range(1,len(image)+1):\n",
    "            for j in range(1,len(image[0])+1):\n",
    "                for x in range(-1,len(image)):\n",
    "                    for y in range(-1,len(image[0])):\n",
    "                        x1 = [x,y]\n",
    "                        x4 = [x+i,y+j]\n",
    "                        x2 = [x+i,y]\n",
    "                        x3 = [x,y+j]\n",
    "                        if(x4[0]>=len(image) or x4[1]>=len(image[0])):\n",
    "                            continue\n",
    "                        f2_temp1 = calc_value(x1,x2,x3,x4,integral)\n",
    "                        x1 = [x+i,y]\n",
    "                        x4 = [x+2*i,y+j]\n",
    "                        x2 = [x+2*i,y]\n",
    "                        x3 = [x+i,y+j]\n",
    "                        if(x4[0]>=len(image) or x4[1]>=len(image[0])):\n",
    "                            continue\n",
    "                        f2_temp2 = calc_value(x1,x2,x3,x4,integral)\n",
    "                        sample.append(+f2_temp1-f2_temp2)\n",
    "        features2.append(sample)\n",
    "    features2 = np.array(features2)\n",
    "    \n",
    "    features3 = []\n",
    "    for integral in input_data:\n",
    "        sample = []\n",
    "        for i in range(1,len(image)+1):\n",
    "            for j in range(1,len(image[0])+1):\n",
    "                for x in range(-1,len(image)):\n",
    "                    for y in range(-1,len(image[0])):\n",
    "                        x1 = [x,y]\n",
    "                        x4 = [x+i,y+j]\n",
    "                        x2 = [x,y+j]\n",
    "                        x3 = [x+i,y]\n",
    "                        if(x4[0]>=len(image) or x4[1]>=len(image[0])):\n",
    "                            continue\n",
    "                        f1_temp1 = calc_value(x1,x2,x3,x4,integral)\n",
    "                        x1 = [x,y+j]\n",
    "                        x4 = [x+i,y+2*j]\n",
    "                        x2 = [x,y+2*j]\n",
    "                        x3 = [x+i,y+j]\n",
    "                        if(x4[0]>=len(image) or x4[1]>=len(image[0])):\n",
    "                            continue\n",
    "                        #print(x1,x2,x3,x4)\n",
    "                        f1_temp2 = calc_value(x1,x2,x3,x4,integral)\n",
    "                        x1 = [x,y+2*j]\n",
    "                        x4 = [x+i,y+3*j]\n",
    "                        x2 = [x,y+3*j]\n",
    "                        x3 = [x+i,y+2*j]\n",
    "                        if(x4[0]>=len(image) or x4[1]>=len(image[0])):\n",
    "                            continue\n",
    "                        #print(x1,x2,x3,x4)\n",
    "                        f1_temp3 = calc_value(x1,x2,x3,x4,integral)\n",
    "                        sample.append(+f1_temp1-f1_temp2+f1_temp3)\n",
    "        features3.append(sample)\n",
    "    features3 = np.array(features3)\n",
    "    \n",
    "    features4 = []\n",
    "    for integral in input_data:\n",
    "        sample = []\n",
    "        for i in range(1,len(image)+1):\n",
    "            for j in range(1,len(image[0])+1):\n",
    "                for x in range(-1,len(image)):\n",
    "                    for y in range(-1,len(image[0])):\n",
    "                        x1 = [x,y]\n",
    "                        x4 = [x+i,y+j]\n",
    "                        x2 = [x+i,y]\n",
    "                        x3 = [x,y+j]\n",
    "                        if(x4[0]>=len(image) or x4[1]>=len(image[0])):\n",
    "                            continue\n",
    "                        f2_temp1 = calc_value(x1,x2,x3,x4,integral)\n",
    "                        x1 = [x+i,y]\n",
    "                        x4 = [x+2*i,y+j]\n",
    "                        x2 = [x+2*i,y]\n",
    "                        x3 = [x+i,y+j]\n",
    "                        if(x4[0]>=len(image) or x4[1]>=len(image[0])):\n",
    "                            continue\n",
    "                        f2_temp2 = calc_value(x1,x2,x3,x4,integral)\n",
    "                        x1 = [x+2*i,y]\n",
    "                        x4 = [x+3*i,y+j]\n",
    "                        x2 = [x+3*i,y]\n",
    "                        x3 = [x+2*i,y+j]\n",
    "                        if(x4[0]>=len(image) or x4[1]>=len(image[0])):\n",
    "                            continue\n",
    "                        f2_temp3 = calc_value(x1,x2,x3,x4,integral)\n",
    "                        sample.append(+f2_temp1-f2_temp2+f2_temp3)\n",
    "        features4.append(sample)\n",
    "    features4 = np.array(features4)\n",
    "    \n",
    "    features5 = []\n",
    "    for integral in input_data:\n",
    "        sample = []\n",
    "        for i in range(1,len(image)+1):\n",
    "            for j in range(1,len(image[0])+1):\n",
    "                for x in range(-1,len(image)):\n",
    "                    for y in range(-1,len(image[0])):\n",
    "                        x1 = [x,y]\n",
    "                        x4 = [x+i,y+j]\n",
    "                        x2 = [x+i,y]\n",
    "                        x3 = [x,y+j]\n",
    "                        if(x4[0]>=len(image) or x4[1]>=len(image[0])):\n",
    "                            continue\n",
    "                        f2_temp1 = calc_value(x1,x2,x3,x4,integral)\n",
    "                        x1 = [x+i,y]\n",
    "                        x4 = [x+2*i,y+j]\n",
    "                        x2 = [x+2*i,y]\n",
    "                        x3 = [x+i,y+j]\n",
    "                        if(x4[0]>=len(image) or x4[1]>=len(image[0])):\n",
    "                            continue\n",
    "                        f2_temp2 = calc_value(x1,x2,x3,x4,integral)\n",
    "                        x1 = [x,y+j]\n",
    "                        x4 = [x+i,y+2*j]\n",
    "                        x2 = [x+i,y+j]\n",
    "                        x3 = [x,y+2*j]\n",
    "                        if(x4[0]>=len(image) or x4[1]>=len(image[0])):\n",
    "                            continue\n",
    "                        f2_temp3 = calc_value(x1,x2,x3,x4,integral)\n",
    "                        x1 = [x+i,y+j]\n",
    "                        x4 = [x+2*i,y+2*j]\n",
    "                        x2 = [x+i,y+2*j]\n",
    "                        x3 = [x+2*i,y+j]\n",
    "                        if(x4[0]>=len(image) or x4[1]>=len(image[0])):\n",
    "                            continue\n",
    "                        f2_temp4 = calc_value(x1,x2,x3,x4,integral)\n",
    "                        sample.append(-f2_temp1+f2_temp2+f2_temp3-f2_temp4)\n",
    "        features5.append(sample)\n",
    "    features5 = np.array(features5)\n",
    "    \n",
    "    total_features = np.concatenate([features1,features2,features3,features4,features5],axis=1)\n",
    "    return total_features"
   ]
  },
  {
   "cell_type": "code",
   "execution_count": 19,
   "metadata": {},
   "outputs": [],
   "source": [
    "train_features = calc_features(train_input_data)"
   ]
  },
  {
   "cell_type": "code",
   "execution_count": 20,
   "metadata": {},
   "outputs": [],
   "source": [
    "np.save('train_features.npy',train_features)\n",
    "np.save('train_labels.npy',train_labels)"
   ]
  },
  {
   "cell_type": "code",
   "execution_count": 21,
   "metadata": {},
   "outputs": [],
   "source": [
    "test_features = calc_features(test_input_data)"
   ]
  },
  {
   "cell_type": "code",
   "execution_count": 22,
   "metadata": {},
   "outputs": [],
   "source": [
    "np.save('test_features.npy',test_features)\n",
    "np.save('test_labels.npy',test_labels)"
   ]
  },
  {
   "cell_type": "code",
   "execution_count": 23,
   "metadata": {},
   "outputs": [],
   "source": [
    "# loading train and test data"
   ]
  },
  {
   "cell_type": "code",
   "execution_count": 39,
   "metadata": {},
   "outputs": [],
   "source": [
    "train_features = np.load('train_features.npy')\n",
    "train_labels = np.load('train_labels.npy')"
   ]
  },
  {
   "cell_type": "code",
   "execution_count": 40,
   "metadata": {},
   "outputs": [],
   "source": [
    "test_features = np.load('test_features.npy')\n",
    "test_labels = np.load('test_labels.npy')"
   ]
  },
  {
   "cell_type": "code",
   "execution_count": 41,
   "metadata": {},
   "outputs": [
    {
     "data": {
      "text/plain": [
       "((2499, 63960), (2473, 63960))"
      ]
     },
     "execution_count": 41,
     "metadata": {},
     "output_type": "execute_result"
    }
   ],
   "source": [
    "train_features.shape, test_features.shape"
   ]
  },
  {
   "cell_type": "code",
   "execution_count": 42,
   "metadata": {},
   "outputs": [],
   "source": [
    "# Initializing weights"
   ]
  },
  {
   "cell_type": "code",
   "execution_count": 43,
   "metadata": {},
   "outputs": [],
   "source": [
    "num_pos = np.sum(train_labels)\n",
    "num_neg = len(train_labels) - num_pos"
   ]
  },
  {
   "cell_type": "code",
   "execution_count": 44,
   "metadata": {},
   "outputs": [],
   "source": [
    "weights = []\n",
    "for i in range(num_pos):\n",
    "    weights.append(1/float(2*num_pos))\n",
    "for i in range(num_neg):\n",
    "    weights.append(1/float(2*num_neg))\n",
    "weights = np.array(weights)\n",
    "weights = weights/np.sum(weights)"
   ]
  },
  {
   "cell_type": "code",
   "execution_count": 45,
   "metadata": {},
   "outputs": [],
   "source": [
    "def weak_classifier(image_index,feature_index,threshold,polarity,is_train):\n",
    "    if(is_train==True):\n",
    "        if(polarity*train_features[image_index,feature_index] <  polarity*threshold):\n",
    "            return 1\n",
    "        else:\n",
    "            return 0\n",
    "    else:\n",
    "        if(polarity*test_features[image_index,feature_index] <  polarity*threshold):\n",
    "            return 1\n",
    "        else:\n",
    "            return 0"
   ]
  },
  {
   "cell_type": "code",
   "execution_count": 46,
   "metadata": {},
   "outputs": [],
   "source": [
    "def one_round(weights):\n",
    "    t_pos = 0\n",
    "    t_neg = 0\n",
    "    for i in range(len(train_labels)):\n",
    "        if(train_labels[i]==1):\n",
    "            t_pos += weights[i]\n",
    "        else:\n",
    "            t_neg += weights[i]\n",
    "        \n",
    "    all_clfs = []\n",
    "    for feature_index in range(train_features.shape[1]):\n",
    "        \n",
    "        feature_values = train_features[:,feature_index]\n",
    "        sorted_feature_value_indices = np.argsort(feature_values)\n",
    "        s_pos = 0\n",
    "        s_neg = 0\n",
    "        weights_pos_till_now,weights_neg_till_now = 0, 0\n",
    "        values = [sys.maxsize,0,0] # error,feature_threshold,feature_polarity\n",
    "        for i in sorted_feature_value_indices:\n",
    "            cur_error = min(weights_neg_till_now+t_pos-weights_pos_till_now,weights_pos_till_now+t_neg-weights_neg_till_now)\n",
    "            if(cur_error<values[0]):\n",
    "                values[0] = cur_error\n",
    "                values[1] = feature_values[i]\n",
    "                if(s_pos > s_neg):\n",
    "                    values[2] = 1\n",
    "                else:\n",
    "                    values[2] = -1\n",
    "            if(train_labels[i]==1):\n",
    "                s_pos += 1\n",
    "                weights_pos_till_now += weights[i]\n",
    "            else:\n",
    "                s_neg += 1\n",
    "                weights_neg_till_now += weights[i]\n",
    "        all_clfs.append([feature_index,values[1],values[2]])\n",
    "    \n",
    "    best_clf_index,best_err = 0,sys.maxsize\n",
    "    for clf_index,clf in enumerate(all_clfs):\n",
    "        \n",
    "        cur_fp = 0.01\n",
    "        cur_fn = 0.01\n",
    "        for i in range(train_features.shape[0]):\n",
    "            if(train_labels[i]==0 and weak_classifier(i,clf[0],clf[1],clf[2],True)==1):\n",
    "                cur_fp += weights[i]\n",
    "            if(train_labels[i]==1 and weak_classifier(i,clf[0],clf[1],clf[2],True)==0):\n",
    "                cur_fn += weights[i]\n",
    "        cur_fp = cur_fp/float(num_neg)\n",
    "        cur_fn = cur_fn/float(num_pos)\n",
    "        total_criteria = 0.7*cur_fp + 0.3*cur_fn\n",
    "        if(total_criteria < best_err):\n",
    "            best_clf_index,best_err = clf_index, total_criteria      \n",
    "    return all_clfs[best_clf_index], best_err"
   ]
  },
  {
   "cell_type": "code",
   "execution_count": 47,
   "metadata": {},
   "outputs": [
    {
     "name": "stdout",
     "output_type": "stream",
     "text": [
      "0\n",
      "[10142, 106.0, -1] 9.711676590360547\n",
      "1\n",
      "[18102, -146.0, 1] 11.542130980586654\n",
      "2\n",
      "[6552, -299.0, 1] 11.547766037687158\n",
      "3\n",
      "[17455, 157.0, -1] 11.54857433308019\n",
      "4\n",
      "[1998, -165.0, 1] 11.550161720659283\n"
     ]
    }
   ],
   "source": [
    "rounds = []\n",
    "for each_round in range(5):\n",
    "    print(each_round)\n",
    "    clf, error = one_round(weights)\n",
    "    beta = error / float(1-error)\n",
    "    for i in range(train_features.shape[0]):\n",
    "      #  if(weak_classifier(i,clf[0],clf[1],clf[2],True)==train_labels[i]):\n",
    "        if(train_labels[i]==0 and weak_classifier(i,clf[0],clf[1],clf[2],True)==1):\n",
    "            weights[i] = weights[i] / float(beta)\n",
    "    weights = weights/np.sum(weights)\n",
    "    alpha = np.log(1/float(beta))\n",
    "    print(clf,alpha)\n",
    "    rounds.append([clf,alpha])"
   ]
  },
  {
   "cell_type": "code",
   "execution_count": 48,
   "metadata": {},
   "outputs": [],
   "source": [
    "rounds_arr = np.array(rounds)"
   ]
  },
  {
   "cell_type": "code",
   "execution_count": null,
   "metadata": {},
   "outputs": [],
   "source": [
    "with open('rounds_arr_fp_v4.pickle', 'wb') as handle:\n",
    "    pickle.dump(rounds_arr, handle, protocol=pickle.HIGHEST_PROTOCOL)"
   ]
  },
  {
   "cell_type": "code",
   "execution_count": null,
   "metadata": {},
   "outputs": [],
   "source": [
    "with open('rounds_arr_fp_v4.pickle', 'rb') as handle:\n",
    "    rounds_arr = pickle.load(handle)"
   ]
  },
  {
   "cell_type": "code",
   "execution_count": 73,
   "metadata": {},
   "outputs": [
    {
     "data": {
      "text/plain": [
       "array([[list([10142, 106.0, -1]), 9.711676590360547],\n",
       "       [list([18102, -146.0, 1]), 11.542130980586654],\n",
       "       [list([6552, -299.0, 1]), 11.547766037687158],\n",
       "       [list([17455, 157.0, -1]), 11.54857433308019],\n",
       "       [list([1998, -165.0, 1]), 11.550161720659283]], dtype=object)"
      ]
     },
     "execution_count": 73,
     "metadata": {},
     "output_type": "execute_result"
    }
   ],
   "source": [
    "rounds_arr"
   ]
  },
  {
   "cell_type": "code",
   "execution_count": 74,
   "metadata": {},
   "outputs": [],
   "source": [
    "def strong_clf(image_index,num_rounds,is_train):\n",
    "    total = 0\n",
    "    for round_index in range(num_rounds):\n",
    "        if(weak_classifier(image_index,rounds_arr[round_index][0][0],rounds_arr[round_index][0][1],rounds_arr[round_index][0][2],is_train)==1):\n",
    "            total += rounds_arr[round_index][1]\n",
    "    if(total>= 0.5*sum(rounds_arr[:num_rounds,1])):\n",
    "        return 1\n",
    "    else:\n",
    "        return 0"
   ]
  },
  {
   "cell_type": "code",
   "execution_count": 75,
   "metadata": {},
   "outputs": [
    {
     "name": "stdout",
     "output_type": "stream",
     "text": [
      "Training acc: 0.858343337334934\n",
      "Training acc: 0.8199279711884754\n",
      "Training acc: 0.8431372549019608\n",
      "Training acc: 0.8103241296518607\n",
      "Training acc: 0.8215286114445778\n"
     ]
    }
   ],
   "source": [
    "for desired_value in range(1,6):\n",
    "    cur_acc = 0\n",
    "    num_rounds = desired_value\n",
    "    for i in range(train_features.shape[0]):\n",
    "        if(strong_clf(i,num_rounds,True)==train_labels[i]):\n",
    "            cur_acc += 1\n",
    "    cur_acc = cur_acc/float(train_features.shape[0])\n",
    "    print('Training acc:',cur_acc)"
   ]
  },
  {
   "cell_type": "code",
   "execution_count": 76,
   "metadata": {},
   "outputs": [
    {
     "name": "stdout",
     "output_type": "stream",
     "text": [
      "Training Fasle Postive Rate:: 0.12605042016806722\n",
      "Training Fasle Postive Rate:: 0.008403361344537815\n",
      "Training Fasle Postive Rate:: 0.0\n",
      "Training Fasle Postive Rate:: 0.0\n",
      "Training Fasle Postive Rate:: 0.0\n"
     ]
    }
   ],
   "source": [
    "for desired_value in range(1,6):\n",
    "    fp = 0\n",
    "    tn = 0\n",
    "    num_rounds = desired_value\n",
    "    for i in range(train_features.shape[0]):\n",
    "        if(train_labels[i]==0):\n",
    "            tn += 1\n",
    "            if(strong_clf(i,num_rounds,True)==1):\n",
    "                fp += 1\n",
    "    fpr = fp/float(train_features.shape[0])\n",
    "    print('Training Fasle Postive Rate::',fpr)"
   ]
  },
  {
   "cell_type": "code",
   "execution_count": 77,
   "metadata": {},
   "outputs": [
    {
     "name": "stdout",
     "output_type": "stream",
     "text": [
      "Training Fasle Negative Rate:: 0.015606242496998799\n",
      "Training Fasle Negative Rate:: 0.1716686674669868\n",
      "Training Fasle Negative Rate:: 0.1568627450980392\n",
      "Training Fasle Negative Rate:: 0.18967587034813926\n",
      "Training Fasle Negative Rate:: 0.17847138855542216\n"
     ]
    }
   ],
   "source": [
    "for desired_value in range(1,6):\n",
    "    fn = 0\n",
    "    tp = 0\n",
    "    num_rounds = desired_value\n",
    "    for i in range(train_features.shape[0]):\n",
    "        if(train_labels[i]==1):\n",
    "            tp += 1\n",
    "            if(strong_clf(i,num_rounds,True)==0):\n",
    "                fn += 1\n",
    "    fnr = fn/float(train_features.shape[0])\n",
    "    print('Training Fasle Negative Rate::',fnr)"
   ]
  },
  {
   "cell_type": "code",
   "execution_count": 78,
   "metadata": {},
   "outputs": [
    {
     "name": "stdout",
     "output_type": "stream",
     "text": [
      "Testing acc: 0.7856854023453296\n",
      "Testing acc: 0.8083299636069551\n",
      "Testing acc: 0.8099474322684997\n",
      "Testing acc: 0.8091386979377274\n",
      "Testing acc: 0.8091386979377274\n"
     ]
    }
   ],
   "source": [
    "for desired_value in range(1,6):\n",
    "    cur_acc = 0\n",
    "    num_rounds = desired_value\n",
    "    for i in range(test_features.shape[0]):\n",
    "        if(strong_clf(i,num_rounds,False)==test_labels[i]):\n",
    "            cur_acc += 1\n",
    "    cur_acc = cur_acc/float(test_features.shape[0])\n",
    "    print('Testing acc:',cur_acc)"
   ]
  },
  {
   "cell_type": "code",
   "execution_count": 79,
   "metadata": {},
   "outputs": [
    {
     "name": "stdout",
     "output_type": "stream",
     "text": [
      "Testing Fasle Postive Rate:: 0.07278608976951072\n",
      "Testing Fasle Postive Rate:: 0.0028305701577031944\n",
      "Testing Fasle Postive Rate:: 0.0004043671653861706\n",
      "Testing Fasle Postive Rate:: 0.0\n",
      "Testing Fasle Postive Rate:: 0.0\n"
     ]
    }
   ],
   "source": [
    "for desired_value in range(1,6):\n",
    "    fp = 0\n",
    "    tn = 0\n",
    "    num_rounds = desired_value\n",
    "    for i in range(test_features.shape[0]):\n",
    "        if(test_labels[i]==0):\n",
    "            tn += 1\n",
    "            if(strong_clf(i,num_rounds,False)==1):\n",
    "                fp += 1\n",
    "    fpr = fp/float(test_features.shape[0])\n",
    "    print('Testing Fasle Postive Rate::',fpr)"
   ]
  },
  {
   "cell_type": "code",
   "execution_count": 80,
   "metadata": {},
   "outputs": [
    {
     "name": "stdout",
     "output_type": "stream",
     "text": [
      "Testing Fasle Negative Rate:: 0.14152850788515972\n",
      "Testing Fasle Negative Rate:: 0.1888394662353417\n",
      "Testing Fasle Negative Rate:: 0.18964820056611403\n",
      "Testing Fasle Negative Rate:: 0.19086130206227253\n",
      "Testing Fasle Negative Rate:: 0.19086130206227253\n"
     ]
    }
   ],
   "source": [
    "for desired_value in range(1,6):\n",
    "    fn = 0\n",
    "    tp = 0\n",
    "    num_rounds = desired_value\n",
    "    for i in range(test_features.shape[0]):\n",
    "        if(test_labels[i]==1):\n",
    "            tp += 1\n",
    "            if(strong_clf(i,num_rounds,False)==0):\n",
    "                fn += 1\n",
    "    fnr = fn/float(test_features.shape[0])\n",
    "    print('Testing Fasle Negative Rate::',fnr)"
   ]
  }
 ],
 "metadata": {
  "kernelspec": {
   "display_name": "Python 3",
   "language": "python",
   "name": "python3"
  },
  "language_info": {
   "codemirror_mode": {
    "name": "ipython",
    "version": 3
   },
   "file_extension": ".py",
   "mimetype": "text/x-python",
   "name": "python",
   "nbconvert_exporter": "python",
   "pygments_lexer": "ipython3",
   "version": "3.7.4"
  }
 },
 "nbformat": 4,
 "nbformat_minor": 2
}

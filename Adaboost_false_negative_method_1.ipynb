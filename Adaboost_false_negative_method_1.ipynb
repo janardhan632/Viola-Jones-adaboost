{
 "cells": [
  {
   "cell_type": "code",
   "execution_count": 1,
   "metadata": {},
   "outputs": [],
   "source": [
    "import numpy as np\n",
    "import os\n",
    "import pickle\n",
    "import cv2\n",
    "import sys"
   ]
  },
  {
   "cell_type": "code",
   "execution_count": 2,
   "metadata": {},
   "outputs": [],
   "source": [
    "def img_tointegral_img(image):\n",
    "    s = np.zeros((image.shape[0],image.shape[1]))\n",
    "    integral = np.zeros((image.shape[0],image.shape[1]))\n",
    "    for i in range(len(image)):\n",
    "        for j in range(len(image[0])):\n",
    "            if(i-1 >=0):\n",
    "                s[i][j] = s[i-1][j] + image[i][j]\n",
    "            else:\n",
    "                s[i][j] = image[i][j]\n",
    "            if(j-1 >=0):\n",
    "                integral[i][j] = integral[i][j-1] + s[i][j]\n",
    "            else:\n",
    "                integral[i][j] = s[i][j]\n",
    "            \n",
    "    return integral"
   ]
  },
  {
   "cell_type": "code",
   "execution_count": 3,
   "metadata": {},
   "outputs": [],
   "source": [
    "def get_image_data(is_train):\n",
    "    if(is_train == True):\n",
    "        folder_name = 'trainset'\n",
    "    else:\n",
    "        folder_name = 'testset'\n",
    "    \n",
    "    faces_train = []\n",
    "    for i in os.listdir('dataset/'+folder_name+'/faces/'):\n",
    "        name = 'dataset/'+folder_name+'/faces/' + i\n",
    "        image = cv2.imread(name, cv2.IMREAD_GRAYSCALE)\n",
    "        integral = img_tointegral_img(image)\n",
    "        faces_train.append(integral)\n",
    "    faces_train = np.array(faces_train)\n",
    "    non_faces_train = []\n",
    "    for i in os.listdir('dataset/'+folder_name+'/non-faces/'):\n",
    "        name = 'dataset/'+folder_name+'/non-faces/' + i\n",
    "        image = cv2.imread(name, cv2.IMREAD_GRAYSCALE)\n",
    "\n",
    "        integral = img_tointegral_img(image)\n",
    "        non_faces_train.append(integral)\n",
    "    non_faces_train = np.array(non_faces_train)\n",
    "    \n",
    "    num_pos = len(faces_train)\n",
    "    num_neg = len(non_faces_train)\n",
    "    \n",
    "    labels = []\n",
    "    for i in range(num_pos):\n",
    "        labels.append(1)\n",
    "    for i in range(num_neg):\n",
    "        labels.append(0)\n",
    "    labels = np.array(labels)\n",
    "    \n",
    "    train_integral_data = []\n",
    "    for i in faces_train:\n",
    "        train_integral_data.append(i)\n",
    "    for i in non_faces_train:\n",
    "        train_integral_data.append(i)\n",
    "    train_integral_data = np.array(train_integral_data)\n",
    "    return (train_integral_data, labels)"
   ]
  },
  {
   "cell_type": "code",
   "execution_count": 8,
   "metadata": {},
   "outputs": [],
   "source": [
    "train_input_data, train_labels = get_image_data(True)"
   ]
  },
  {
   "cell_type": "code",
   "execution_count": 9,
   "metadata": {},
   "outputs": [],
   "source": [
    "test_input_data, test_labels = get_image_data(False)"
   ]
  },
  {
   "cell_type": "code",
   "execution_count": 10,
   "metadata": {},
   "outputs": [
    {
     "data": {
      "text/plain": [
       "((2499, 19, 19), (2499,))"
      ]
     },
     "execution_count": 10,
     "metadata": {},
     "output_type": "execute_result"
    }
   ],
   "source": [
    "train_input_data.shape, train_labels.shape"
   ]
  },
  {
   "cell_type": "code",
   "execution_count": 11,
   "metadata": {},
   "outputs": [
    {
     "data": {
      "text/plain": [
       "((2473, 19, 19), (2473,))"
      ]
     },
     "execution_count": 11,
     "metadata": {},
     "output_type": "execute_result"
    }
   ],
   "source": [
    "test_input_data.shape, test_labels.shape"
   ]
  },
  {
   "cell_type": "code",
   "execution_count": 4,
   "metadata": {},
   "outputs": [],
   "source": [
    "def calc_value(x1,x2,x3,x4,integral):\n",
    "    temp_sum = 0\n",
    "    if(x4[0]>=0 and x4[1]>=0):\n",
    "        temp_sum += integral[x4[0],x4[1]]\n",
    "    if(x1[0]>=0 and x1[1]>=0):\n",
    "        temp_sum += integral[x1[0],x1[1]]\n",
    "    if(x2[0]>=0 and x2[1]>=0):\n",
    "        temp_sum -= integral[x2[0],x2[1]]\n",
    "    if(x3[0]>=0 and x3[1]>=0):\n",
    "        temp_sum -= integral[x3[0],x3[1]]\n",
    "    return temp_sum"
   ]
  },
  {
   "cell_type": "code",
   "execution_count": 5,
   "metadata": {},
   "outputs": [],
   "source": [
    "def calc_features(input_data):\n",
    "    image = input_data[0]\n",
    "    features1 = []\n",
    "    for integral in input_data:\n",
    "        sample = []\n",
    "        for i in range(1,len(image)+1):\n",
    "            for j in range(1,len(image[0])+1):\n",
    "                for x in range(-1,len(image)):\n",
    "                    for y in range(-1,len(image[0])):\n",
    "                        x1 = [x,y]\n",
    "                        x4 = [x+i,y+j]\n",
    "                        x2 = [x,y+j]\n",
    "                        x3 = [x+i,y]\n",
    "                        if(x4[0]>=len(image) or x4[1]>=len(image[0])):\n",
    "                            continue\n",
    "                        f1_temp1 = calc_value(x1,x2,x3,x4,integral)\n",
    "                        x1 = [x,y+j]\n",
    "                        x4 = [x+i,y+2*j]\n",
    "                        x2 = [x,y+2*j]\n",
    "                        x3 = [x+i,y+j]\n",
    "                        if(x4[0]>=len(image) or x4[1]>=len(image[0])):\n",
    "                            continue\n",
    "                        f1_temp2 = calc_value(x1,x2,x3,x4,integral)\n",
    "                        sample.append(-f1_temp1+f1_temp2)\n",
    "\n",
    "        features1.append(sample)\n",
    "    features1 = np.array(features1)\n",
    "    \n",
    "    features2 = []\n",
    "    for integral in input_data:\n",
    "        sample = []\n",
    "        for i in range(1,len(image)+1):\n",
    "            for j in range(1,len(image[0])+1):\n",
    "                for x in range(-1,len(image)):\n",
    "                    for y in range(-1,len(image[0])):\n",
    "                        x1 = [x,y]\n",
    "                        x4 = [x+i,y+j]\n",
    "                        x2 = [x+i,y]\n",
    "                        x3 = [x,y+j]\n",
    "                        if(x4[0]>=len(image) or x4[1]>=len(image[0])):\n",
    "                            continue\n",
    "                        f2_temp1 = calc_value(x1,x2,x3,x4,integral)\n",
    "                        x1 = [x+i,y]\n",
    "                        x4 = [x+2*i,y+j]\n",
    "                        x2 = [x+2*i,y]\n",
    "                        x3 = [x+i,y+j]\n",
    "                        if(x4[0]>=len(image) or x4[1]>=len(image[0])):\n",
    "                            continue\n",
    "                        f2_temp2 = calc_value(x1,x2,x3,x4,integral)\n",
    "                        sample.append(+f2_temp1-f2_temp2)\n",
    "        features2.append(sample)\n",
    "    features2 = np.array(features2)\n",
    "    \n",
    "    features3 = []\n",
    "    for integral in input_data:\n",
    "        sample = []\n",
    "        for i in range(1,len(image)+1):\n",
    "            for j in range(1,len(image[0])+1):\n",
    "                for x in range(-1,len(image)):\n",
    "                    for y in range(-1,len(image[0])):\n",
    "                        x1 = [x,y]\n",
    "                        x4 = [x+i,y+j]\n",
    "                        x2 = [x,y+j]\n",
    "                        x3 = [x+i,y]\n",
    "                        if(x4[0]>=len(image) or x4[1]>=len(image[0])):\n",
    "                            continue\n",
    "                        f1_temp1 = calc_value(x1,x2,x3,x4,integral)\n",
    "                        x1 = [x,y+j]\n",
    "                        x4 = [x+i,y+2*j]\n",
    "                        x2 = [x,y+2*j]\n",
    "                        x3 = [x+i,y+j]\n",
    "                        if(x4[0]>=len(image) or x4[1]>=len(image[0])):\n",
    "                            continue\n",
    "                        #print(x1,x2,x3,x4)\n",
    "                        f1_temp2 = calc_value(x1,x2,x3,x4,integral)\n",
    "                        x1 = [x,y+2*j]\n",
    "                        x4 = [x+i,y+3*j]\n",
    "                        x2 = [x,y+3*j]\n",
    "                        x3 = [x+i,y+2*j]\n",
    "                        if(x4[0]>=len(image) or x4[1]>=len(image[0])):\n",
    "                            continue\n",
    "                        #print(x1,x2,x3,x4)\n",
    "                        f1_temp3 = calc_value(x1,x2,x3,x4,integral)\n",
    "                        sample.append(+f1_temp1-f1_temp2+f1_temp3)\n",
    "        features3.append(sample)\n",
    "    features3 = np.array(features3)\n",
    "    \n",
    "    features4 = []\n",
    "    for integral in input_data:\n",
    "        sample = []\n",
    "        for i in range(1,len(image)+1):\n",
    "            for j in range(1,len(image[0])+1):\n",
    "                for x in range(-1,len(image)):\n",
    "                    for y in range(-1,len(image[0])):\n",
    "                        x1 = [x,y]\n",
    "                        x4 = [x+i,y+j]\n",
    "                        x2 = [x+i,y]\n",
    "                        x3 = [x,y+j]\n",
    "                        if(x4[0]>=len(image) or x4[1]>=len(image[0])):\n",
    "                            continue\n",
    "                        f2_temp1 = calc_value(x1,x2,x3,x4,integral)\n",
    "                        x1 = [x+i,y]\n",
    "                        x4 = [x+2*i,y+j]\n",
    "                        x2 = [x+2*i,y]\n",
    "                        x3 = [x+i,y+j]\n",
    "                        if(x4[0]>=len(image) or x4[1]>=len(image[0])):\n",
    "                            continue\n",
    "                        f2_temp2 = calc_value(x1,x2,x3,x4,integral)\n",
    "                        x1 = [x+2*i,y]\n",
    "                        x4 = [x+3*i,y+j]\n",
    "                        x2 = [x+3*i,y]\n",
    "                        x3 = [x+2*i,y+j]\n",
    "                        if(x4[0]>=len(image) or x4[1]>=len(image[0])):\n",
    "                            continue\n",
    "                        f2_temp3 = calc_value(x1,x2,x3,x4,integral)\n",
    "                        sample.append(+f2_temp1-f2_temp2+f2_temp3)\n",
    "        features4.append(sample)\n",
    "    features4 = np.array(features4)\n",
    "    \n",
    "    features5 = []\n",
    "    for integral in input_data:\n",
    "        sample = []\n",
    "        for i in range(1,len(image)+1):\n",
    "            for j in range(1,len(image[0])+1):\n",
    "                for x in range(-1,len(image)):\n",
    "                    for y in range(-1,len(image[0])):\n",
    "                        x1 = [x,y]\n",
    "                        x4 = [x+i,y+j]\n",
    "                        x2 = [x+i,y]\n",
    "                        x3 = [x,y+j]\n",
    "                        if(x4[0]>=len(image) or x4[1]>=len(image[0])):\n",
    "                            continue\n",
    "                        f2_temp1 = calc_value(x1,x2,x3,x4,integral)\n",
    "                        x1 = [x+i,y]\n",
    "                        x4 = [x+2*i,y+j]\n",
    "                        x2 = [x+2*i,y]\n",
    "                        x3 = [x+i,y+j]\n",
    "                        if(x4[0]>=len(image) or x4[1]>=len(image[0])):\n",
    "                            continue\n",
    "                        f2_temp2 = calc_value(x1,x2,x3,x4,integral)\n",
    "                        x1 = [x,y+j]\n",
    "                        x4 = [x+i,y+2*j]\n",
    "                        x2 = [x+i,y+j]\n",
    "                        x3 = [x,y+2*j]\n",
    "                        if(x4[0]>=len(image) or x4[1]>=len(image[0])):\n",
    "                            continue\n",
    "                        f2_temp3 = calc_value(x1,x2,x3,x4,integral)\n",
    "                        x1 = [x+i,y+j]\n",
    "                        x4 = [x+2*i,y+2*j]\n",
    "                        x2 = [x+i,y+2*j]\n",
    "                        x3 = [x+2*i,y+j]\n",
    "                        if(x4[0]>=len(image) or x4[1]>=len(image[0])):\n",
    "                            continue\n",
    "                        f2_temp4 = calc_value(x1,x2,x3,x4,integral)\n",
    "                        sample.append(-f2_temp1+f2_temp2+f2_temp3-f2_temp4)\n",
    "        features5.append(sample)\n",
    "    features5 = np.array(features5)\n",
    "    \n",
    "    total_features = np.concatenate([features1,features2,features3,features4,features5],axis=1)\n",
    "    return total_features"
   ]
  },
  {
   "cell_type": "code",
   "execution_count": 19,
   "metadata": {},
   "outputs": [],
   "source": [
    "train_features = calc_features(train_input_data)"
   ]
  },
  {
   "cell_type": "code",
   "execution_count": 20,
   "metadata": {},
   "outputs": [],
   "source": [
    "np.save('train_features.npy',train_features)\n",
    "np.save('train_labels.npy',train_labels)"
   ]
  },
  {
   "cell_type": "code",
   "execution_count": 21,
   "metadata": {},
   "outputs": [],
   "source": [
    "test_features = calc_features(test_input_data)"
   ]
  },
  {
   "cell_type": "code",
   "execution_count": 22,
   "metadata": {},
   "outputs": [],
   "source": [
    "np.save('test_features.npy',test_features)\n",
    "np.save('test_labels.npy',test_labels)"
   ]
  },
  {
   "cell_type": "code",
   "execution_count": 23,
   "metadata": {},
   "outputs": [],
   "source": [
    "# loading train and test data"
   ]
  },
  {
   "cell_type": "code",
   "execution_count": 6,
   "metadata": {},
   "outputs": [],
   "source": [
    "train_features = np.load('train_features.npy')\n",
    "train_labels = np.load('train_labels.npy')"
   ]
  },
  {
   "cell_type": "code",
   "execution_count": 7,
   "metadata": {},
   "outputs": [],
   "source": [
    "test_features = np.load('test_features.npy')\n",
    "test_labels = np.load('test_labels.npy')"
   ]
  },
  {
   "cell_type": "code",
   "execution_count": 8,
   "metadata": {},
   "outputs": [
    {
     "data": {
      "text/plain": [
       "((2499, 63960), (2473, 63960))"
      ]
     },
     "execution_count": 8,
     "metadata": {},
     "output_type": "execute_result"
    }
   ],
   "source": [
    "train_features.shape, test_features.shape"
   ]
  },
  {
   "cell_type": "code",
   "execution_count": 9,
   "metadata": {},
   "outputs": [],
   "source": [
    "# Initializing weights"
   ]
  },
  {
   "cell_type": "code",
   "execution_count": 10,
   "metadata": {},
   "outputs": [],
   "source": [
    "num_pos = np.sum(train_labels)\n",
    "num_neg = len(train_labels) - num_pos"
   ]
  },
  {
   "cell_type": "code",
   "execution_count": 11,
   "metadata": {},
   "outputs": [],
   "source": [
    "weights = []\n",
    "for i in range(num_pos):\n",
    "    weights.append(1/float(2*num_pos))\n",
    "for i in range(num_neg):\n",
    "    weights.append(1/float(2*num_neg))\n",
    "weights = np.array(weights)\n",
    "weights = weights/np.sum(weights)"
   ]
  },
  {
   "cell_type": "code",
   "execution_count": 12,
   "metadata": {},
   "outputs": [],
   "source": [
    "def weak_classifier(image_index,feature_index,threshold,polarity,is_train):\n",
    "    if(is_train==True):\n",
    "        if(polarity*train_features[image_index,feature_index] <  polarity*threshold):\n",
    "            return 1\n",
    "        else:\n",
    "            return 0\n",
    "    else:\n",
    "        if(polarity*test_features[image_index,feature_index] <  polarity*threshold):\n",
    "            return 1\n",
    "        else:\n",
    "            return 0"
   ]
  },
  {
   "cell_type": "code",
   "execution_count": 13,
   "metadata": {},
   "outputs": [],
   "source": [
    "def one_round(weights):\n",
    "    t_pos = 0\n",
    "    t_neg = 0\n",
    "    for i in range(len(train_labels)):\n",
    "        if(train_labels[i]==1):\n",
    "            t_pos += weights[i]\n",
    "        else:\n",
    "            t_neg += weights[i]\n",
    "        \n",
    "    all_clfs = []\n",
    "    for feature_index in range(train_features.shape[1]):\n",
    "        \n",
    "        feature_values = train_features[:,feature_index]\n",
    "        sorted_feature_value_indices = np.argsort(feature_values)\n",
    "        s_pos = 0\n",
    "        s_neg = 0\n",
    "        weights_pos_till_now,weights_neg_till_now = 0, 0\n",
    "        values = [sys.maxsize,0,0] # error,feature_threshold,feature_polarity\n",
    "        for i in sorted_feature_value_indices:\n",
    "            cur_error = min(weights_neg_till_now+t_pos-weights_pos_till_now,weights_pos_till_now+t_neg-weights_neg_till_now)\n",
    "            if(cur_error<values[0]):\n",
    "                values[0] = cur_error\n",
    "                values[1] = feature_values[i]\n",
    "                if(s_pos > s_neg):\n",
    "                    values[2] = 1\n",
    "                else:\n",
    "                    values[2] = -1\n",
    "            if(train_labels[i]==1):\n",
    "                s_pos += 1\n",
    "                weights_pos_till_now += weights[i]\n",
    "            else:\n",
    "                s_neg += 1\n",
    "                weights_neg_till_now += weights[i]\n",
    "        all_clfs.append([feature_index,values[1],values[2]])\n",
    "    \n",
    "    best_clf_index,best_err = 0,sys.maxsize\n",
    "    for clf_index,clf in enumerate(all_clfs):\n",
    "        \n",
    "        cur_fp = 0.01\n",
    "        cur_fn = 0.01\n",
    "        for i in range(train_features.shape[0]):\n",
    "            if(train_labels[i]==0 and weak_classifier(i,clf[0],clf[1],clf[2],True)==1):\n",
    "                cur_fp += weights[i]\n",
    "            if(train_labels[i]==1 and weak_classifier(i,clf[0],clf[1],clf[2],True)==0):\n",
    "                cur_fn += weights[i]\n",
    "        cur_fp = cur_fp/float(num_neg)\n",
    "        cur_fn = cur_fn/float(num_pos)\n",
    "        total_criteria = 0.3*cur_fp + 0.7*cur_fn\n",
    "        if(total_criteria < best_err):\n",
    "            best_clf_index,best_err = clf_index, total_criteria      \n",
    "    return all_clfs[best_clf_index], best_err"
   ]
  },
  {
   "cell_type": "code",
   "execution_count": 14,
   "metadata": {
    "collapsed": true
   },
   "outputs": [
    {
     "name": "stdout",
     "output_type": "stream",
     "text": [
      "0\n",
      "0.0003213432756294154 7.325000000000005e-05 0.00042766896518487915\n",
      "0.0003008796724209945 8.937500000000007e-05 0.0003915245320299922\n",
      "0.00024101876493467917 8.662500000000006e-05 0.00030718752133525594\n",
      "0.0001544730531704693 0.00010737500000000008 0.0001746579331006704\n",
      "0.00014886996894590792 0.00011212500000000008 0.00016461781277986846\n",
      "0.00010684513204766252 6.575000000000004e-05 0.00012445733149666073\n",
      "7.987591199432938e-05 6.487500000000005e-05 8.630487427761339e-05\n",
      "7.929402883924165e-05 5.825000000000005e-05 8.831289834177378e-05\n",
      "7.895526252906619e-05 4.7750000000000036e-05 9.232894647009455e-05\n",
      "7.12534446146803e-05 5.487500000000004e-05 7.827277802097184e-05\n",
      "[15272, 93.0, -1] 9.54919613853166\n",
      "1\n",
      "6.397561619573606e-05 5.5984630737559905e-06 8.899439610515609e-05\n",
      "6.397341129187808e-05 5.5681882427381865e-06 8.90042211700809e-05\n",
      "1.5709474194567945e-05 5.593264365399398e-06 2.004499269278304e-05\n",
      "1.5708920645129118e-05 5.568494049112103e-06 2.005481775770784e-05\n",
      "1.570396658187166e-05 5.551980504920574e-06 2.005481775770784e-05\n",
      "1.5703052260715685e-05 5.5718579192251925e-06 2.004499269278304e-05\n",
      "1.5688465296679834e-05 5.523234705772356e-06 2.004499269278304e-05\n",
      "1.5685529555490228e-05 5.5134489018070046e-06 2.004499269278304e-05\n",
      "1.5677592331104188e-05 5.47552891144127e-06 2.004990522524544e-05\n",
      "1.5664366005922077e-05 5.3168154033782355e-06 2.009903054986944e-05\n",
      "1.5662445621697952e-05 5.356264425613556e-06 2.007938042001984e-05\n",
      "1.5657089562715926e-05 5.418648925892668e-06 2.004499269278304e-05\n",
      "[10975, -514.0, -1] 11.064571079140466\n",
      "2\n",
      "5.741741081193823e-05 5.517450867042085e-06 7.96602507883223e-05\n",
      "5.74155043795064e-05 5.491274251897902e-06 7.966874586276719e-05\n",
      "1.5684916156097476e-05 5.512955892724397e-06 2.0044327697543085e-05\n",
      "1.5684437539037148e-05 5.491538662151884e-06 2.0052822771987975e-05\n",
      "1.5680154092922645e-05 5.4772605084368746e-06 2.0052822771987975e-05\n",
      "1.567638758610499e-05 5.474616405897058e-06 2.004857523476553e-05\n",
      "1.566675117164894e-05 5.452405944562599e-06 2.0044327697543085e-05\n",
      "1.5664212833210716e-05 5.4439448164351865e-06 2.0044327697543085e-05\n",
      "1.565735004781831e-05 5.411157944941463e-06 2.004857523476553e-05\n",
      "1.5645914131830484e-05 5.273929023124987e-06 2.009105060698998e-05\n",
      "1.5644253704436726e-05 5.3080379458886195e-06 2.00740604581002e-05\n",
      "[3913, 35.0, -1] 11.065391239462793\n",
      "3\n",
      "3.563019930942103e-05 5.2483177767086594e-06 4.865100568058348e-05\n",
      "3.562928443789781e-05 5.235755967871584e-06 4.865508235362334e-05\n",
      "1.5603331157315453e-05 5.246160698423506e-06 2.0042118496840577e-05\n",
      "1.5603101475365172e-05 5.235882854829534e-06 2.0046195169880448e-05\n",
      "1.560291243035422e-05 5.244764941886052e-06 2.0042118496840577e-05\n",
      "1.560104590664638e-05 5.2290309591002205e-06 2.0046195169880448e-05\n",
      "1.559923841020857e-05 5.227762089520718e-06 2.004415683336051e-05\n",
      "1.559461402330427e-05 5.217103585052896e-06 2.0042118496840577e-05\n",
      "1.559339590850795e-05 5.213043202398487e-06 2.0042118496840577e-05\n",
      "1.5590102549236153e-05 5.197309219612655e-06 2.004415683336051e-05\n",
      "1.5586844685199803e-05 5.162669080092234e-06 2.005434851596019e-05\n",
      "1.5585534618749943e-05 5.182082784658624e-06 2.004415683336051e-05\n",
      "1.5584333608858358e-05 5.163811062713786e-06 2.005027184292032e-05\n",
      "1.55813092830502e-05 5.167998332326145e-06 2.004415683336051e-05\n",
      "[9789, -292.0, -1] 11.069422903482543\n",
      "4\n",
      "3.3308851911253e-05 5.219642634002674e-06 4.5347084458646e-05\n",
      "3.330804268690428e-05 5.208531432793545e-06 4.5350690367237455e-05\n",
      "1.5594638575218454e-05 5.2177346499566626e-06 2.0041883114616367e-05\n",
      "1.5594435416390233e-05 5.2086436671491935e-06 2.004548902320782e-05\n",
      "1.5594268201844817e-05 5.216500072044537e-06 2.0041883114616367e-05\n",
      "1.5592617219828737e-05 5.202583011944214e-06 2.004548902320782e-05\n",
      "1.5591018448754785e-05 5.201460668387736e-06 2.0043686068912094e-05\n",
      "1.5586928074985453e-05 5.192032982513324e-06 2.0041883114616367e-05\n",
      "1.5585850625171236e-05 5.188441483132596e-06 2.0041883114616367e-05\n",
      "1.5582937575148145e-05 5.174524423032273e-06 2.0043686068912094e-05\n",
      "1.558005592145564e-05 5.143884443940433e-06 2.005270084039073e-05\n",
      "1.5578897138344827e-05 5.161056300354542e-06 2.0043686068912094e-05\n",
      "1.5577834818201872e-05 5.144894553141264e-06 2.0049094931799276e-05\n",
      "1.5577347167248833e-05 5.147475943321162e-06 2.004729197750355e-05\n",
      "1.55771636860441e-05 5.159485019375473e-06 2.0041883114616367e-05\n",
      "[14338, -373.0, -1] 11.06968900520203\n"
     ]
    }
   ],
   "source": [
    "rounds = []\n",
    "for each_round in range(5):\n",
    "    print(each_round)\n",
    "    clf, error = one_round(weights)\n",
    "    beta = error / float(1-error)\n",
    "    for i in range(train_features.shape[0]):\n",
    "      #  if(weak_classifier(i,clf[0],clf[1],clf[2],True)==train_labels[i]):\n",
    "        if(train_labels[i]==1 and weak_classifier(i,clf[0],clf[1],clf[2],True)==0):\n",
    "            weights[i] = weights[i] / float(beta)\n",
    "    weights = weights/np.sum(weights)\n",
    "    alpha = np.log(1/float(beta))\n",
    "    print(clf,alpha)\n",
    "    rounds.append([clf,alpha])"
   ]
  },
  {
   "cell_type": "code",
   "execution_count": 15,
   "metadata": {},
   "outputs": [],
   "source": [
    "rounds_arr = np.array(rounds)"
   ]
  },
  {
   "cell_type": "code",
   "execution_count": null,
   "metadata": {},
   "outputs": [],
   "source": [
    "with open('rounds_arr_fp_v4.pickle', 'wb') as handle:\n",
    "    pickle.dump(rounds_arr, handle, protocol=pickle.HIGHEST_PROTOCOL)"
   ]
  },
  {
   "cell_type": "code",
   "execution_count": null,
   "metadata": {},
   "outputs": [],
   "source": [
    "with open('rounds_arr_fp_v4.pickle', 'rb') as handle:\n",
    "    rounds_arr = pickle.load(handle)"
   ]
  },
  {
   "cell_type": "code",
   "execution_count": 35,
   "metadata": {},
   "outputs": [
    {
     "data": {
      "text/plain": [
       "array([[list([15272, 93.0, -1]), 9.54919613853166],\n",
       "       [list([10975, -514.0, -1]), 11.064571079140466],\n",
       "       [list([3913, 35.0, -1]), 11.065391239462793],\n",
       "       [list([9789, -292.0, -1]), 11.069422903482543],\n",
       "       [list([14338, -373.0, -1]), 11.06968900520203]], dtype=object)"
      ]
     },
     "execution_count": 35,
     "metadata": {},
     "output_type": "execute_result"
    }
   ],
   "source": [
    "rounds_arr"
   ]
  },
  {
   "cell_type": "code",
   "execution_count": 36,
   "metadata": {},
   "outputs": [],
   "source": [
    "def strong_clf(image_index,num_rounds,is_train):\n",
    "    total = 0\n",
    "    for round_index in range(num_rounds):\n",
    "        if(weak_classifier(image_index,rounds_arr[round_index][0][0],rounds_arr[round_index][0][1],rounds_arr[round_index][0][2],is_train)==1):\n",
    "            total += rounds_arr[round_index][1]\n",
    "    if(total>= 0.5*sum(rounds_arr[:num_rounds,1])):\n",
    "        return 1\n",
    "    else:\n",
    "        return 0"
   ]
  },
  {
   "cell_type": "code",
   "execution_count": 37,
   "metadata": {},
   "outputs": [
    {
     "name": "stdout",
     "output_type": "stream",
     "text": [
      "Training acc: 0.8287314925970388\n",
      "Training acc: 0.45178071228491395\n",
      "Training acc: 0.6190476190476191\n",
      "Training acc: 0.44617847138855543\n",
      "Training acc: 0.4657863145258103\n"
     ]
    }
   ],
   "source": [
    "for desired_value in range(1,6):\n",
    "    cur_acc = 0\n",
    "    num_rounds = desired_value\n",
    "    for i in range(train_features.shape[0]):\n",
    "        if(strong_clf(i,num_rounds,True)==train_labels[i]):\n",
    "            cur_acc += 1\n",
    "    cur_acc = cur_acc/float(train_features.shape[0])\n",
    "    print('Training acc:',cur_acc)"
   ]
  },
  {
   "cell_type": "code",
   "execution_count": 38,
   "metadata": {},
   "outputs": [
    {
     "name": "stdout",
     "output_type": "stream",
     "text": [
      "Training Fasle Postive Rate:: 0.15966386554621848\n",
      "Training Fasle Postive Rate:: 0.5478191276510604\n",
      "Training Fasle Postive Rate:: 0.38095238095238093\n",
      "Training Fasle Postive Rate:: 0.5538215286114446\n",
      "Training Fasle Postive Rate:: 0.5342136854741897\n"
     ]
    }
   ],
   "source": [
    "for desired_value in range(1,6):\n",
    "    fp = 0\n",
    "    tn = 0\n",
    "    num_rounds = desired_value\n",
    "    for i in range(train_features.shape[0]):\n",
    "        if(train_labels[i]==0):\n",
    "            tn += 1\n",
    "            if(strong_clf(i,num_rounds,True)==1):\n",
    "                fp += 1\n",
    "    fpr = fp/float(train_features.shape[0])\n",
    "    print('Training Fasle Postive Rate::',fpr)"
   ]
  },
  {
   "cell_type": "code",
   "execution_count": 39,
   "metadata": {},
   "outputs": [
    {
     "name": "stdout",
     "output_type": "stream",
     "text": [
      "Training Fasle Negative Rate:: 0.011604641856742696\n",
      "Training Fasle Negative Rate:: 0.00040016006402561027\n",
      "Training Fasle Negative Rate:: 0.0\n",
      "Training Fasle Negative Rate:: 0.0\n",
      "Training Fasle Negative Rate:: 0.0\n"
     ]
    }
   ],
   "source": [
    "for desired_value in range(1,6):\n",
    "    fn = 0\n",
    "    tp = 0\n",
    "    num_rounds = desired_value\n",
    "    for i in range(train_features.shape[0]):\n",
    "        if(train_labels[i]==1):\n",
    "            tp += 1\n",
    "            if(strong_clf(i,num_rounds,True)==0):\n",
    "                fn += 1\n",
    "    fnr = fn/float(train_features.shape[0])\n",
    "    print('Training Fasle Negative Rate::',fnr)"
   ]
  },
  {
   "cell_type": "code",
   "execution_count": 40,
   "metadata": {},
   "outputs": [
    {
     "name": "stdout",
     "output_type": "stream",
     "text": [
      "Testing acc: 0.7545491306105944\n",
      "Testing acc: 0.28063081277800245\n",
      "Testing acc: 0.6316215123331985\n",
      "Testing acc: 0.28993125758188437\n",
      "Testing acc: 0.305701577031945\n"
     ]
    }
   ],
   "source": [
    "for desired_value in range(1,6):\n",
    "    cur_acc = 0\n",
    "    num_rounds = desired_value\n",
    "    for i in range(test_features.shape[0]):\n",
    "        if(strong_clf(i,num_rounds,False)==test_labels[i]):\n",
    "            cur_acc += 1\n",
    "    cur_acc = cur_acc/float(test_features.shape[0])\n",
    "    print('Testing acc:',cur_acc)"
   ]
  },
  {
   "cell_type": "code",
   "execution_count": 41,
   "metadata": {},
   "outputs": [
    {
     "name": "stdout",
     "output_type": "stream",
     "text": [
      "Testing Fasle Postive Rate:: 0.11888394662353417\n",
      "Testing Fasle Postive Rate:: 0.6870198139911039\n",
      "Testing Fasle Postive Rate:: 0.3251112009704812\n",
      "Testing Fasle Postive Rate:: 0.6874241811564901\n",
      "Testing Fasle Postive Rate:: 0.6704407602102709\n"
     ]
    }
   ],
   "source": [
    "for desired_value in range(1,6):\n",
    "    fp = 0\n",
    "    tn = 0\n",
    "    num_rounds = desired_value\n",
    "    for i in range(test_features.shape[0]):\n",
    "        if(test_labels[i]==0):\n",
    "            tn += 1\n",
    "            if(strong_clf(i,num_rounds,False)==1):\n",
    "                fp += 1\n",
    "    fpr = fp/float(test_features.shape[0])\n",
    "    print('Testing Fasle Postive Rate::',fpr)"
   ]
  },
  {
   "cell_type": "code",
   "execution_count": 42,
   "metadata": {},
   "outputs": [
    {
     "name": "stdout",
     "output_type": "stream",
     "text": [
      "Testing Fasle Negative Rate:: 0.12656692276587142\n",
      "Testing Fasle Negative Rate:: 0.03234937323089365\n",
      "Testing Fasle Negative Rate:: 0.04326728669632026\n",
      "Testing Fasle Negative Rate:: 0.022644561261625555\n",
      "Testing Fasle Negative Rate:: 0.023857662757784066\n"
     ]
    }
   ],
   "source": [
    "for desired_value in range(1,6):\n",
    "    fn = 0\n",
    "    tp = 0\n",
    "    num_rounds = desired_value\n",
    "    for i in range(test_features.shape[0]):\n",
    "        if(test_labels[i]==1):\n",
    "            tp += 1\n",
    "            if(strong_clf(i,num_rounds,False)==0):\n",
    "                fn += 1\n",
    "    fnr = fn/float(test_features.shape[0])\n",
    "    print('Testing Fasle Negative Rate::',fnr)"
   ]
  }
 ],
 "metadata": {
  "kernelspec": {
   "display_name": "Python 3",
   "language": "python",
   "name": "python3"
  },
  "language_info": {
   "codemirror_mode": {
    "name": "ipython",
    "version": 3
   },
   "file_extension": ".py",
   "mimetype": "text/x-python",
   "name": "python",
   "nbconvert_exporter": "python",
   "pygments_lexer": "ipython3",
   "version": "3.7.4"
  }
 },
 "nbformat": 4,
 "nbformat_minor": 2
}
